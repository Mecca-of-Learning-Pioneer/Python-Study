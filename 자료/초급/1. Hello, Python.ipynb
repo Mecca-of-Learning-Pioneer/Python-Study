{
  "cells": [
    {
      "cell_type": "code",
      "execution_count": 31,
      "metadata": {
        "colab": {
          "base_uri": "https://localhost:8080/"
        },
        "id": "1m41o7Rdv1do",
        "outputId": "d7dafbec-9f9c-42e4-dba0-f204ff3008c9"
      },
      "outputs": [
        {
          "output_type": "stream",
          "name": "stdout",
          "text": [
            "0\n"
          ]
        }
      ],
      "source": [
        "# C언어와 달리 타입을 지정해주지 않음\n",
        "a = 0\n",
        "print(a)"
      ]
    },
    {
      "cell_type": "code",
      "execution_count": 32,
      "metadata": {
        "colab": {
          "base_uri": "https://localhost:8080/"
        },
        "id": "HLt9WJwqv1dq",
        "outputId": "8adaa393-7cdd-42bc-ac47-ea995664e4b9"
      },
      "outputs": [
        {
          "output_type": "stream",
          "name": "stdout",
          "text": [
            "4\n"
          ]
        }
      ],
      "source": [
        "a = a + 4\n",
        "print(a)"
      ]
    },
    {
      "cell_type": "code",
      "execution_count": 33,
      "metadata": {
        "colab": {
          "base_uri": "https://localhost:8080/"
        },
        "id": "mxPvtZeTv1dr",
        "outputId": "73e1c51d-3243-4e1a-eda4-a304b0e5ecca"
      },
      "outputs": [
        {
          "output_type": "stream",
          "name": "stdout",
          "text": [
            "함수 밖입니다.\n"
          ]
        }
      ],
      "source": [
        "# 파이썬에선 함수범위를 (중괄호로 구분하지 않고) 들여쓰기로 구분\n",
        "if a > 5:\n",
        "  print(\"Hello World!\")\n",
        "print(\"함수 밖입니다.\")"
      ]
    },
    {
      "cell_type": "code",
      "execution_count": 34,
      "metadata": {
        "colab": {
          "base_uri": "https://localhost:8080/"
        },
        "id": "fpuegX0lv1dr",
        "outputId": "480e00f3-b423-4467-eec6-1dfbccc61c6d"
      },
      "outputs": [
        {
          "output_type": "stream",
          "name": "stdout",
          "text": [
            "Hello Hello Hello\n"
          ]
        }
      ],
      "source": [
        "# 타입 지정 따로 안하고 문자열도 받음\n",
        "hello = \"Hello Hello Hello\"\n",
        "print(hello)"
      ]
    },
    {
      "cell_type": "code",
      "execution_count": 35,
      "metadata": {
        "colab": {
          "base_uri": "https://localhost:8080/"
        },
        "id": "j9ql5rwWv1ds",
        "outputId": "39f9da15-fade-49b8-a8fc-7c80d1a63a96"
      },
      "outputs": [
        {
          "output_type": "stream",
          "name": "stdout",
          "text": [
            "Hello Hello Hello Hello \n"
          ]
        }
      ],
      "source": [
        "# 문자열에는 곱셈 연산이 가능\n",
        "hello = \"Hello \" * a\n",
        "print(hello)"
      ]
    },
    {
      "cell_type": "code",
      "execution_count": 36,
      "metadata": {
        "id": "nk_x8lHzv1ds",
        "outputId": "4e056522-005d-4460-f078-5644902ef1cb",
        "colab": {
          "base_uri": "https://localhost:8080/",
          "height": 35
        }
      },
      "outputs": [
        {
          "output_type": "execute_result",
          "data": {
            "text/plain": [
              "\"'\""
            ],
            "application/vnd.google.colaboratory.intrinsic+json": {
              "type": "string"
            }
          },
          "metadata": {},
          "execution_count": 36
        }
      ],
      "source": [
        "# 문자열을 표현하는 방법\n",
        "\"Hello, I'm happy!\"\n",
        "#'Hello, I'm happy!' # 오류\n",
        "'Hello, I\\'m happy!'\n",
        "\"Hello, I\\'m happy!\" # 추천\n",
        "\n",
        "# 문자를 표현하는 방법\n",
        "'A' # 추천\n",
        "\"A\"\n",
        "\n",
        "'\\'' # \\뒤에 오는 문자는 그 문자 그대로 표시(기능을 하지 않음)"
      ]
    },
    {
      "cell_type": "code",
      "execution_count": 37,
      "metadata": {
        "id": "6rKz9hhkv1ds",
        "outputId": "99b3a056-c8f8-45e3-80eb-863f60ecf24c",
        "colab": {
          "base_uri": "https://localhost:8080/"
        }
      },
      "outputs": [
        {
          "output_type": "execute_result",
          "data": {
            "text/plain": [
              "int"
            ]
          },
          "metadata": {},
          "execution_count": 37
        }
      ],
      "source": [
        "# 타입 찍어보기\n",
        "a = 0\n",
        "type(a)"
      ]
    },
    {
      "cell_type": "code",
      "execution_count": 38,
      "metadata": {
        "id": "gi_YAHmJv1dt",
        "outputId": "b29630b1-59ee-4385-8db6-53203e0d4104",
        "colab": {
          "base_uri": "https://localhost:8080/"
        }
      },
      "outputs": [
        {
          "output_type": "execute_result",
          "data": {
            "text/plain": [
              "float"
            ]
          },
          "metadata": {},
          "execution_count": 38
        }
      ],
      "source": [
        "type(19.95)"
      ]
    },
    {
      "cell_type": "code",
      "execution_count": 39,
      "metadata": {
        "id": "-QDXzwTcv1dt",
        "outputId": "33dbc709-601b-459b-db09-42c57920ddb4",
        "colab": {
          "base_uri": "https://localhost:8080/"
        }
      },
      "outputs": [
        {
          "output_type": "execute_result",
          "data": {
            "text/plain": [
              "str"
            ]
          },
          "metadata": {},
          "execution_count": 39
        }
      ],
      "source": [
        "hello = \"Hello\"\n",
        "type(hello)"
      ]
    },
    {
      "cell_type": "code",
      "execution_count": 40,
      "metadata": {
        "colab": {
          "base_uri": "https://localhost:8080/"
        },
        "id": "NtS_xsmYv1dt",
        "outputId": "9bbfc5c8-047b-46d5-c739-7355c5f459bf"
      },
      "outputs": [
        {
          "output_type": "stream",
          "name": "stdout",
          "text": [
            "2.5\n",
            "3.0\n"
          ]
        }
      ],
      "source": [
        "# 나눗셈 계산\n",
        "print(5 / 2)\n",
        "print(6 / 2)"
      ]
    },
    {
      "cell_type": "code",
      "execution_count": 41,
      "metadata": {
        "id": "Le_SyLA8v1du",
        "outputId": "4e4d3ba9-d166-4e2b-974d-802389f364e4",
        "colab": {
          "base_uri": "https://localhost:8080/"
        }
      },
      "outputs": [
        {
          "output_type": "stream",
          "name": "stdout",
          "text": [
            "2\n",
            "3\n"
          ]
        }
      ],
      "source": [
        "# 몫 계산\n",
        "print(5 // 2)\n",
        "print(6 // 2)"
      ]
    },
    {
      "cell_type": "code",
      "execution_count": 51,
      "metadata": {
        "colab": {
          "base_uri": "https://localhost:8080/"
        },
        "id": "njU0x9K8v1du",
        "outputId": "4860bea7-4e70-4d6b-d734-15c37259c855"
      },
      "outputs": [
        {
          "output_type": "stream",
          "name": "stdout",
          "text": [
            "2\n"
          ]
        }
      ],
      "source": [
        "# 나머지 계산\n",
        "print(6 % 4)"
      ]
    },
    {
      "cell_type": "code",
      "execution_count": 52,
      "metadata": {
        "colab": {
          "base_uri": "https://localhost:8080/"
        },
        "id": "noO-TaGrv1du",
        "outputId": "8450925a-efba-4923-e865-d9c689c4d39a"
      },
      "outputs": [
        {
          "output_type": "stream",
          "name": "stdout",
          "text": [
            "125\n"
          ]
        }
      ],
      "source": [
        "# 거듭제곱 계산\n",
        "print(5 ** 3) # 5의 3제곱"
      ]
    },
    {
      "cell_type": "code",
      "execution_count": 44,
      "metadata": {
        "id": "QuOJBlULv1du",
        "outputId": "a3393818-420a-4253-d189-0731b05aaf8d",
        "colab": {
          "base_uri": "https://localhost:8080/"
        }
      },
      "outputs": [
        {
          "output_type": "execute_result",
          "data": {
            "text/plain": [
              "7"
            ]
          },
          "metadata": {},
          "execution_count": 44
        }
      ],
      "source": [
        "# 연산자 우선순위 : */  ->  +-\n",
        "8 - 3 + 2"
      ]
    },
    {
      "cell_type": "code",
      "execution_count": 54,
      "metadata": {
        "id": "JnUZYId_v1dv",
        "outputId": "9e03ed45-734c-4b8a-f9db-43aab197cb0b",
        "colab": {
          "base_uri": "https://localhost:8080/"
        }
      },
      "outputs": [
        {
          "output_type": "execute_result",
          "data": {
            "text/plain": [
              "5"
            ]
          },
          "metadata": {},
          "execution_count": 54
        }
      ],
      "source": [
        "-3 + 4 * 2 # == (-3 + (4 * 2))"
      ]
    },
    {
      "cell_type": "code",
      "execution_count": 55,
      "metadata": {
        "colab": {
          "base_uri": "https://localhost:8080/"
        },
        "id": "tzcZrJNdv1dv",
        "outputId": "4d8f7ce3-a0e6-424b-d7be-b91e502419c7"
      },
      "outputs": [
        {
          "output_type": "stream",
          "name": "stdout",
          "text": [
            "11.8\n"
          ]
        }
      ],
      "source": [
        "# 키를 cm단위에서 m단위로 표현하기\n",
        "h = 180\n",
        "shoe = 10\n",
        "total_h = shoe + h / 100 # == (shoe + (h / 100)) # 의도치 않은 계산\n",
        "print(total_h)"
      ]
    },
    {
      "cell_type": "code",
      "execution_count": 47,
      "metadata": {
        "id": "CRJCwP2Zv1dv",
        "outputId": "72855241-bb15-4a68-f203-f2946f066c4c",
        "colab": {
          "base_uri": "https://localhost:8080/"
        }
      },
      "outputs": [
        {
          "output_type": "stream",
          "name": "stdout",
          "text": [
            "1.9\n"
          ]
        }
      ],
      "source": [
        "total_h = (shoe + h) / 100\n",
        "print(total_h)"
      ]
    },
    {
      "cell_type": "code",
      "execution_count": 56,
      "metadata": {
        "colab": {
          "base_uri": "https://localhost:8080/"
        },
        "id": "j94IvNzsv1dv",
        "outputId": "51da2f15-2f48-496a-f921-7144dcff9aba"
      },
      "outputs": [
        {
          "output_type": "stream",
          "name": "stdout",
          "text": [
            "1\n",
            "3\n"
          ]
        }
      ],
      "source": [
        "# min : 최소값, max : 최대값\n",
        "print(min(1, 2, 3))\n",
        "print(max(1, 2, 3))"
      ]
    },
    {
      "cell_type": "code",
      "execution_count": 49,
      "metadata": {
        "id": "zwkPp0cDv1dw",
        "outputId": "41b92175-69ed-49eb-fa42-41082bb1b308",
        "colab": {
          "base_uri": "https://localhost:8080/"
        }
      },
      "outputs": [
        {
          "output_type": "stream",
          "name": "stdout",
          "text": [
            "32\n",
            "32\n"
          ]
        }
      ],
      "source": [
        "# abs : 절댓값\n",
        "print(abs(32))\n",
        "print(abs(-32))"
      ]
    },
    {
      "cell_type": "code",
      "execution_count": 50,
      "metadata": {
        "colab": {
          "base_uri": "https://localhost:8080/"
        },
        "id": "yh8IH0Krv1dw",
        "outputId": "0a260b9e-6800-4bbe-f9fb-1d8353a7091f"
      },
      "outputs": [
        {
          "output_type": "stream",
          "name": "stdout",
          "text": [
            "10.0\n",
            "3\n",
            "808\n"
          ]
        }
      ],
      "source": [
        "# 형(타입)변환\n",
        "print(float(10)) # int -> float\n",
        "print(int(3.33)) # float -> int\n",
        "print(int(\"807\") + 1) # str -> int"
      ]
    }
  ],
  "metadata": {
    "kernelspec": {
      "display_name": ".venv",
      "language": "python",
      "name": "python3"
    },
    "language_info": {
      "codemirror_mode": {
        "name": "ipython",
        "version": 3
      },
      "file_extension": ".py",
      "mimetype": "text/x-python",
      "name": "python",
      "nbconvert_exporter": "python",
      "pygments_lexer": "ipython3",
      "version": "3.11.2"
    },
    "orig_nbformat": 4,
    "colab": {
      "provenance": []
    }
  },
  "nbformat": 4,
  "nbformat_minor": 0
}