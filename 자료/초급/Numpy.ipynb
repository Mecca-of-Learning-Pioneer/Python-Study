{
  "nbformat": 4,
  "nbformat_minor": 0,
  "metadata": {
    "colab": {
      "provenance": []
    },
    "kernelspec": {
      "name": "python3",
      "display_name": "Python 3"
    },
    "language_info": {
      "name": "python"
    }
  },
  "cells": [
    {
      "cell_type": "code",
      "source": [
        "### Numpy\n",
        "\n",
        "## Numpy(넘파이) 특징\n",
        "\n",
        "\"\"\"\n",
        "과학 계산을 위한 라이브러리\n",
        "행렬/배열 처리 및 연산\n",
        "난수생성\n",
        "\"\"\"\n",
        "\"\"\"\"\"\""
      ],
      "metadata": {
        "colab": {
          "base_uri": "https://localhost:8080/",
          "height": 35
        },
        "id": "XMEhVkNlZsk3",
        "outputId": "e60cbc73-e74a-4779-85a4-0c1dfb531bbc"
      },
      "execution_count": 1,
      "outputs": [
        {
          "output_type": "execute_result",
          "data": {
            "text/plain": [
              "''"
            ],
            "application/vnd.google.colaboratory.intrinsic+json": {
              "type": "string"
            }
          },
          "metadata": {},
          "execution_count": 1
        }
      ]
    },
    {
      "cell_type": "code",
      "execution_count": 2,
      "metadata": {
        "colab": {
          "base_uri": "https://localhost:8080/"
        },
        "id": "JhDT8ga6KiRu",
        "outputId": "e9d81411-a3ba-455c-ef2a-ba6a634427af"
      },
      "outputs": [
        {
          "output_type": "stream",
          "name": "stdout",
          "text": [
            "[[1 2 3]\n",
            " [4 5 6]]\n",
            "[[1, 2, 3], [4, 5, 6]]\n"
          ]
        }
      ],
      "source": [
        "## 배열의 생성\n",
        "\n",
        "# 1. 리스트에서 행렬/배열 생성\n",
        "\n",
        "import numpy as np # numpy 패키지 로드하여 np로 사용\n",
        "a = [[1, 2, 3], [4, 5, 6]] # 리스트에서 행렬생성\n",
        "b = np.array(a)\n",
        "print(b)\n",
        "print(a)"
      ]
    },
    {
      "cell_type": "code",
      "source": [
        "print(b.ndim)  # 배열의 차원"
      ],
      "metadata": {
        "colab": {
          "base_uri": "https://localhost:8080/"
        },
        "id": "oKVqQApgKjmw",
        "outputId": "d9a61a2e-4618-4a8f-bc89-af7c337554cf"
      },
      "execution_count": 3,
      "outputs": [
        {
          "output_type": "stream",
          "name": "stdout",
          "text": [
            "2\n"
          ]
        }
      ]
    },
    {
      "cell_type": "code",
      "source": [
        "print(b.shape) # 배열의 몇 행 몇 열"
      ],
      "metadata": {
        "colab": {
          "base_uri": "https://localhost:8080/"
        },
        "id": "NzNupeN4Kysv",
        "outputId": "6b3bf523-2214-4318-c7f5-1b1bb0b2e8b7"
      },
      "execution_count": 4,
      "outputs": [
        {
          "output_type": "stream",
          "name": "stdout",
          "text": [
            "(2, 3)\n"
          ]
        }
      ]
    },
    {
      "cell_type": "code",
      "source": [
        "print(b.size) # 배열의 전체 원소 개수"
      ],
      "metadata": {
        "colab": {
          "base_uri": "https://localhost:8080/"
        },
        "id": "X8Pa4YVWb64W",
        "outputId": "93fd9532-0209-4eba-ad4c-c15e21049bc5"
      },
      "execution_count": 5,
      "outputs": [
        {
          "output_type": "stream",
          "name": "stdout",
          "text": [
            "6\n"
          ]
        }
      ]
    },
    {
      "cell_type": "code",
      "source": [
        "print(b[0, 0])  # 배열의 원소 접근"
      ],
      "metadata": {
        "colab": {
          "base_uri": "https://localhost:8080/"
        },
        "id": "6-kBCVaAK2pt",
        "outputId": "bc27f743-dfc6-451a-afb1-f394f09d5686"
      },
      "execution_count": 6,
      "outputs": [
        {
          "output_type": "stream",
          "name": "stdout",
          "text": [
            "1\n"
          ]
        }
      ]
    },
    {
      "cell_type": "code",
      "source": [
        "# 2. 특수한 배열의 생성\n",
        "\n",
        "print(np.arange(10)) # 1씩 증가하는 1차원 배열(시작이 0부터) # np.arange(0, 10) 과 동일"
      ],
      "metadata": {
        "colab": {
          "base_uri": "https://localhost:8080/"
        },
        "id": "2khHfXH7K4o6",
        "outputId": "ccd5fc48-25c3-44e7-ea9a-bcde3e8ae438"
      },
      "execution_count": 7,
      "outputs": [
        {
          "output_type": "stream",
          "name": "stdout",
          "text": [
            "[0 1 2 3 4 5 6 7 8 9]\n"
          ]
        }
      ]
    },
    {
      "cell_type": "code",
      "source": [
        "print(np.ones((2, 3)))  # 유닛행렬"
      ],
      "metadata": {
        "colab": {
          "base_uri": "https://localhost:8080/"
        },
        "id": "801IeRW4LUsv",
        "outputId": "7e8a57a0-1356-47cd-f061-b7d0e86e913c"
      },
      "execution_count": 8,
      "outputs": [
        {
          "output_type": "stream",
          "name": "stdout",
          "text": [
            "[[1. 1. 1.]\n",
            " [1. 1. 1.]]\n"
          ]
        }
      ]
    },
    {
      "cell_type": "code",
      "source": [
        "print(np.eye(3)) # 단위행렬"
      ],
      "metadata": {
        "colab": {
          "base_uri": "https://localhost:8080/"
        },
        "id": "D_twYttqLplp",
        "outputId": "6d9af567-f019-4ff1-ccc2-539c66d1213b"
      },
      "execution_count": 9,
      "outputs": [
        {
          "output_type": "stream",
          "name": "stdout",
          "text": [
            "[[1. 0. 0.]\n",
            " [0. 1. 0.]\n",
            " [0. 0. 1.]]\n"
          ]
        }
      ]
    },
    {
      "cell_type": "code",
      "source": [
        "# 3. 배열의 차원 변환\n",
        "\n",
        "a = np.arange(20)\n",
        "print(a)\n",
        "print(\"차원 :\", a.ndim)\n",
        "print(\"몇 행 몇 열 :\", a.shape)"
      ],
      "metadata": {
        "colab": {
          "base_uri": "https://localhost:8080/"
        },
        "id": "ObBHRMTaLuYb",
        "outputId": "0c7fe9ae-257b-4050-d840-e8faad268ac3"
      },
      "execution_count": 10,
      "outputs": [
        {
          "output_type": "stream",
          "name": "stdout",
          "text": [
            "[ 0  1  2  3  4  5  6  7  8  9 10 11 12 13 14 15 16 17 18 19]\n",
            "차원 : 1\n",
            "몇 행 몇 열 : (20,)\n"
          ]
        }
      ]
    },
    {
      "cell_type": "code",
      "source": [
        "b = a.reshape((4, 5))\n",
        "print(b)\n",
        "print(\"차원 :\", b.ndim)\n",
        "print(\"몇 행 몇 열 :\", b.shape)"
      ],
      "metadata": {
        "colab": {
          "base_uri": "https://localhost:8080/"
        },
        "id": "_xpdGABnLw5_",
        "outputId": "7f1e01c2-e5f4-4b82-8c08-5511212178ff"
      },
      "execution_count": 11,
      "outputs": [
        {
          "output_type": "stream",
          "name": "stdout",
          "text": [
            "[[ 0  1  2  3  4]\n",
            " [ 5  6  7  8  9]\n",
            " [10 11 12 13 14]\n",
            " [15 16 17 18 19]]\n",
            "차원 : 2\n",
            "몇 행 몇 열 : (4, 5)\n"
          ]
        }
      ]
    },
    {
      "cell_type": "code",
      "source": [
        "## Numpy 슬라이싱/인덱싱\n",
        "\n",
        "import numpy as np\n",
        "lst = [\n",
        "    [1, 2, 3],\n",
        "    [4, 5, 6],\n",
        "    [7, 8, 9]\n",
        "]\n",
        "arr = np.array(lst)\n",
        "a = arr[0:2, 0:2]\n",
        "print(a)\n",
        "print(\"차원 :\", a.ndim)\n",
        "print(\"몇 행 몇 열 :\", a.shape)"
      ],
      "metadata": {
        "colab": {
          "base_uri": "https://localhost:8080/"
        },
        "id": "To3e_PtBL0K5",
        "outputId": "6d141f92-4cf1-4a8a-ca8c-7df17595cd66"
      },
      "execution_count": 12,
      "outputs": [
        {
          "output_type": "stream",
          "name": "stdout",
          "text": [
            "[[1 2]\n",
            " [4 5]]\n",
            "차원 : 2\n",
            "몇 행 몇 열 : (2, 2)\n"
          ]
        }
      ]
    },
    {
      "cell_type": "code",
      "source": [
        "a = arr[2, :]\n",
        "print(a)\n",
        "print(\"차원 :\", a.ndim)\n",
        "print(\"몇 행 몇 열 :\", a.shape)"
      ],
      "metadata": {
        "colab": {
          "base_uri": "https://localhost:8080/"
        },
        "id": "Q7oyiglQMhLF",
        "outputId": "2806fc4f-17e0-4f9d-c17c-3ab3daf6c95b"
      },
      "execution_count": 13,
      "outputs": [
        {
          "output_type": "stream",
          "name": "stdout",
          "text": [
            "[7 8 9]\n",
            "차원 : 1\n",
            "몇 행 몇 열 : (3,)\n"
          ]
        }
      ]
    },
    {
      "cell_type": "code",
      "source": [
        "## Numpy 연산\n",
        "\n",
        "\"\"\"\n",
        "배열간 연산 가능\n",
        "\n",
        "+,-,*,/ 등의 연산자 사용가능\n",
        "\n",
        "add(),substract(),multiply(),divide()\n",
        "\"\"\"\n",
        "\n",
        "import numpy as np\n",
        "a = np.array([1, 2, 3])\n",
        "b = np.array([4, 5, 6])\n",
        "\n",
        "# 각 요소 더하기\n",
        "c = a + b\n",
        "#c = np.add(a, b)\n",
        "\n",
        "print(c) #[5 7 9]\n",
        "\n",
        "\n",
        "e = [1, 2, 3]\n",
        "f = [4, 5, 6]\n",
        "\n",
        "print(e + f) # numpy배열과 리스트의 계산은 다름"
      ],
      "metadata": {
        "colab": {
          "base_uri": "https://localhost:8080/"
        },
        "id": "IGEdOTX8NpVa",
        "outputId": "82e70eb8-655e-480f-e0c9-eb13daaa8551"
      },
      "execution_count": 14,
      "outputs": [
        {
          "output_type": "stream",
          "name": "stdout",
          "text": [
            "[5 7 9]\n",
            "[1, 2, 3, 4, 5, 6]\n"
          ]
        }
      ]
    },
    {
      "cell_type": "code",
      "source": [
        "# 각 요소 곱하기\n",
        "c = a * b\n",
        "#c = np.multiply(a, b)\n",
        "\n",
        "print(c) #[4 10 18]"
      ],
      "metadata": {
        "colab": {
          "base_uri": "https://localhost:8080/"
        },
        "id": "hCTtwx1CNwiF",
        "outputId": "f3301e38-9dee-4098-eaa9-ce58a6d35fb0"
      },
      "execution_count": 15,
      "outputs": [
        {
          "output_type": "stream",
          "name": "stdout",
          "text": [
            "[ 4 10 18]\n"
          ]
        }
      ]
    },
    {
      "cell_type": "code",
      "source": [
        "# 각 요소 나누기\n",
        "c = a / b\n",
        "#c = np.divide(a, b)\n",
        "\n",
        "print(c) # [0.25 0.4 0.5]"
      ],
      "metadata": {
        "colab": {
          "base_uri": "https://localhost:8080/"
        },
        "id": "KOZ0VPPYQBLl",
        "outputId": "4b647997-61c4-4105-b28e-30413691fce1"
      },
      "execution_count": 16,
      "outputs": [
        {
          "output_type": "stream",
          "name": "stdout",
          "text": [
            "[0.25 0.4  0.5 ]\n"
          ]
        }
      ]
    },
    {
      "cell_type": "code",
      "source": [
        "# dot()함수: 행렬의 곱\n",
        "\n",
        "arr1 = [[1, 2], [3, 4]]\n",
        "arr2 = [[5, 6], [7, 8]]\n",
        "a = np.array(arr1)\n",
        "b = np.array(arr2)\n",
        "\n",
        "c = np.dot(a, b)\n",
        "\n",
        "print(c)"
      ],
      "metadata": {
        "colab": {
          "base_uri": "https://localhost:8080/"
        },
        "id": "LXOArurlQHyB",
        "outputId": "b436b62b-ace8-4688-f470-80eb5fe46944"
      },
      "execution_count": 17,
      "outputs": [
        {
          "output_type": "stream",
          "name": "stdout",
          "text": [
            "[[19 22]\n",
            " [43 50]]\n"
          ]
        }
      ]
    },
    {
      "cell_type": "code",
      "source": [
        "# 모든 원소의 합: sum(), 모든 원소의 곱: prod()\n",
        "\n",
        "a = np.array([[-1, 2, 3], [3, 4, 8]])\n",
        "#s = np.sum(a)\n",
        "print('sum =', a.sum())\n",
        "#print('sum =', s)"
      ],
      "metadata": {
        "colab": {
          "base_uri": "https://localhost:8080/"
        },
        "id": "PD4AVehlQLrs",
        "outputId": "381ce19a-2a29-4904-e08e-d472902eb548"
      },
      "execution_count": 18,
      "outputs": [
        {
          "output_type": "stream",
          "name": "stdout",
          "text": [
            "sum = 19\n"
          ]
        }
      ]
    },
    {
      "cell_type": "code",
      "source": [
        "# 행별/열별 연산 (axis = 0 / axis = 1)\n",
        "\n",
        "print('sum by Row =', a.sum(axis = 0))\n",
        "print('sum by Column =', a.sum(axis = 1))"
      ],
      "metadata": {
        "colab": {
          "base_uri": "https://localhost:8080/"
        },
        "id": "ErTpQlFHQpvL",
        "outputId": "192c9b79-0ec6-4e29-aa44-6625b713ebfc"
      },
      "execution_count": 19,
      "outputs": [
        {
          "output_type": "stream",
          "name": "stdout",
          "text": [
            "sum by Row = [ 2  6 11]\n",
            "sum by Column = [ 4 15]\n"
          ]
        }
      ]
    },
    {
      "cell_type": "code",
      "source": [
        "print('product =', a.prod()) # 전체 원소간의 곱셈"
      ],
      "metadata": {
        "colab": {
          "base_uri": "https://localhost:8080/"
        },
        "id": "JCXEsBHoTTyt",
        "outputId": "afc6d77f-b5f6-4fcd-ae96-736dd6d0d0f4"
      },
      "execution_count": 20,
      "outputs": [
        {
          "output_type": "stream",
          "name": "stdout",
          "text": [
            "product = -576\n"
          ]
        }
      ]
    },
    {
      "cell_type": "code",
      "source": [
        "print('mean =', a.mean()) # 평균"
      ],
      "metadata": {
        "colab": {
          "base_uri": "https://localhost:8080/"
        },
        "id": "vt6c_CJmSj4d",
        "outputId": "8c43598f-fc8c-4a86-c7dd-7b0a80ce327d"
      },
      "execution_count": 21,
      "outputs": [
        {
          "output_type": "stream",
          "name": "stdout",
          "text": [
            "mean = 3.1666666666666665\n"
          ]
        }
      ]
    },
    {
      "cell_type": "code",
      "source": [
        "print('sd =', a.std()) # 표준편차"
      ],
      "metadata": {
        "colab": {
          "base_uri": "https://localhost:8080/"
        },
        "id": "6L-wDPEGTSOc",
        "outputId": "ea2c4256-e4bc-4f87-ce41-768ec0d843ed"
      },
      "execution_count": 22,
      "outputs": [
        {
          "output_type": "stream",
          "name": "stdout",
          "text": [
            "sd = 2.6718699236469\n"
          ]
        }
      ]
    },
    {
      "cell_type": "code",
      "source": [
        "## 기본 수학 함수\n",
        "\n",
        "\"\"\"\n",
        "Function            Description\n",
        "abs, fabs\t          absolute value element-wise for integer, foating-point, or complex values\n",
        "sqrt\t              square root of each element (equivalent to arr ** 0.5)\n",
        "square              square of each element (equivalent to arr ** 2)\n",
        "exp\t                exponent e^x of each element\n",
        "log, log10,\t        Natural logarithm (base e), log base 10, log base 2, and log(1 + x), respectively\n",
        "log2, log1p\t\n",
        "sign\t              sign of each element: 1 (positive), 0 (zero), or –1 (negative)\n",
        "ceil\t              ceiling of each element (i.e., 주어진 수보다 크거나 같은 최소 정수)\n",
        "floor\t              floor of each element (i.e., 작거나 같은 최대정수)\n",
        "rint\t              반올림\n",
        "isnan\t              NaN (Not a Number) 체크, [True|False]\n",
        "isfinite, isinf\t    유한/무한 체크\n",
        "cos, cosh, sin,\t    삼각함수\n",
        "sinh, tan, tanh\t\n",
        "arccos, arccosh,\t\n",
        "arcsin, arcsinh,\t\n",
        "arctan, arctanh\n",
        "\"\"\"\n",
        "\"\"\"\"\"\""
      ],
      "metadata": {
        "colab": {
          "base_uri": "https://localhost:8080/",
          "height": 35
        },
        "id": "p-S8paBpTjrz",
        "outputId": "e5e5f4b1-1949-4f96-cffd-5635846c7528"
      },
      "execution_count": 23,
      "outputs": [
        {
          "output_type": "execute_result",
          "data": {
            "text/plain": [
              "''"
            ],
            "application/vnd.google.colaboratory.intrinsic+json": {
              "type": "string"
            }
          },
          "metadata": {},
          "execution_count": 23
        }
      ]
    },
    {
      "cell_type": "code",
      "source": [
        " ## 선형대수(벡터/행렬연산) 함수\n",
        "\n",
        "\"\"\"\n",
        "Function            Description\n",
        "diag\t              diagonal elements of a square matrix as a 1D array, or\n",
        "                    convert a 1D array into a square matrix with zeros on the off-diagonal\n",
        "dot\t                Matrix multiplication\n",
        "trace\t              sum of the diagonal elements\n",
        "det\t                matrix determinant\n",
        "eig\t                eigenvalues and eigenvectors of a square matrix\n",
        "inv\t                inverse of a square matrix\n",
        "pinv\t              Moore-Penrose pseudo-inverse of a matrix\n",
        "qr\t                QR decomposition\n",
        "svd\t                singular value decomposition (SVD)\n",
        "solve\t              Ax=b for x, where A is a matrix\n",
        "lstsq\t              least-squares solution to Ax=b\n",
        "\"\"\"\n",
        "\"\"\"\"\"\""
      ],
      "metadata": {
        "colab": {
          "base_uri": "https://localhost:8080/",
          "height": 35
        },
        "id": "pEchzXnWUppm",
        "outputId": "2780ec6e-a98a-4aab-e246-86d7ac1d99d7"
      },
      "execution_count": 24,
      "outputs": [
        {
          "output_type": "execute_result",
          "data": {
            "text/plain": [
              "''"
            ],
            "application/vnd.google.colaboratory.intrinsic+json": {
              "type": "string"
            }
          },
          "metadata": {},
          "execution_count": 24
        }
      ]
    },
    {
      "cell_type": "code",
      "source": [
        "# 1. 벡터연산(내적)\n",
        "\n",
        "import numpy as np\n",
        "x = np.array([1, 2, 3])\n",
        "print(x)\n",
        "print(\"차원 :\", x.ndim)\n",
        "print(\"몇 행 몇 열 :\", x.shape)"
      ],
      "metadata": {
        "colab": {
          "base_uri": "https://localhost:8080/"
        },
        "id": "oDuq7zWvVjqY",
        "outputId": "9eae2dbf-0fa2-4c2d-df1f-2958f6641ad7"
      },
      "execution_count": 25,
      "outputs": [
        {
          "output_type": "stream",
          "name": "stdout",
          "text": [
            "[1 2 3]\n",
            "차원 : 1\n",
            "몇 행 몇 열 : (3,)\n"
          ]
        }
      ]
    },
    {
      "cell_type": "code",
      "source": [
        "y = np.array([6, 23, -1])\n",
        "print(y)\n",
        "print(\"차원 :\", y.ndim)\n",
        "print(\"몇 행 몇 열 :\", y.shape)"
      ],
      "metadata": {
        "colab": {
          "base_uri": "https://localhost:8080/"
        },
        "id": "bXiRHC0X2s0-",
        "outputId": "c986d1c2-fbdd-4d04-ed04-e7be6cff749b"
      },
      "execution_count": 26,
      "outputs": [
        {
          "output_type": "stream",
          "name": "stdout",
          "text": [
            "[ 6 23 -1]\n",
            "차원 : 1\n",
            "몇 행 몇 열 : (3,)\n"
          ]
        }
      ]
    },
    {
      "cell_type": "code",
      "source": [
        "print(x.dot(y))"
      ],
      "metadata": {
        "colab": {
          "base_uri": "https://localhost:8080/"
        },
        "id": "pjks5vZuVyNE",
        "outputId": "b1ef1328-cc0d-414d-bcf4-288be346e21b"
      },
      "execution_count": 27,
      "outputs": [
        {
          "output_type": "stream",
          "name": "stdout",
          "text": [
            "49\n"
          ]
        }
      ]
    },
    {
      "cell_type": "code",
      "source": [
        "# 2. 행렬의 곱\n",
        "\n",
        "x = np.array([[1, 2, 3], [4, 5, 6]])\n",
        "print(x)\n",
        "print(\"차원 :\", x.ndim)\n",
        "print(\"몇 행 몇 열 :\", x.shape)"
      ],
      "metadata": {
        "colab": {
          "base_uri": "https://localhost:8080/"
        },
        "id": "ry9TDE9YWnQt",
        "outputId": "17b0caa5-71a0-4130-c356-5200a80ef0a5"
      },
      "execution_count": 28,
      "outputs": [
        {
          "output_type": "stream",
          "name": "stdout",
          "text": [
            "[[1 2 3]\n",
            " [4 5 6]]\n",
            "차원 : 2\n",
            "몇 행 몇 열 : (2, 3)\n"
          ]
        }
      ]
    },
    {
      "cell_type": "code",
      "source": [
        "y = np.array([[6, 23], [-1, 7], [8, 9]])\n",
        "print(y)\n",
        "print(\"차원 :\", y.ndim)\n",
        "print(\"몇 행 몇 열 :\", y.shape)"
      ],
      "metadata": {
        "colab": {
          "base_uri": "https://localhost:8080/"
        },
        "id": "7MFu-c8qW-j2",
        "outputId": "5fc16f55-b328-429f-f9a8-e014ca175d23"
      },
      "execution_count": 29,
      "outputs": [
        {
          "output_type": "stream",
          "name": "stdout",
          "text": [
            "[[ 6 23]\n",
            " [-1  7]\n",
            " [ 8  9]]\n",
            "차원 : 2\n",
            "몇 행 몇 열 : (3, 2)\n"
          ]
        }
      ]
    },
    {
      "cell_type": "code",
      "source": [
        "print(x.dot(y)) # xy"
      ],
      "metadata": {
        "colab": {
          "base_uri": "https://localhost:8080/"
        },
        "id": "zEOHrzrQXCBP",
        "outputId": "3b6737f6-e9d0-48af-edc0-4dfe11447bd8"
      },
      "execution_count": 30,
      "outputs": [
        {
          "output_type": "stream",
          "name": "stdout",
          "text": [
            "[[ 28  64]\n",
            " [ 67 181]]\n"
          ]
        }
      ]
    },
    {
      "cell_type": "code",
      "source": [
        "print(y.dot(x)) # yx"
      ],
      "metadata": {
        "colab": {
          "base_uri": "https://localhost:8080/"
        },
        "id": "9tTPumOOXDXK",
        "outputId": "4e268b87-4866-49ef-aa66-6f1c9ad314f1"
      },
      "execution_count": 31,
      "outputs": [
        {
          "output_type": "stream",
          "name": "stdout",
          "text": [
            "[[ 98 127 156]\n",
            " [ 27  33  39]\n",
            " [ 44  61  78]]\n"
          ]
        }
      ]
    },
    {
      "cell_type": "code",
      "source": [
        "print(x.T.dot(y.T)) # x'y'"
      ],
      "metadata": {
        "colab": {
          "base_uri": "https://localhost:8080/"
        },
        "id": "hT0hqhoF3CZM",
        "outputId": "c143e0d0-ab89-4ea8-ab8c-699875b4c19e"
      },
      "execution_count": 32,
      "outputs": [
        {
          "output_type": "stream",
          "name": "stdout",
          "text": [
            "[[ 98  27  44]\n",
            " [127  33  61]\n",
            " [156  39  78]]\n"
          ]
        }
      ]
    },
    {
      "cell_type": "code",
      "source": [
        "# 3. 역행렬\n",
        "\n",
        "from numpy.linalg import inv\n",
        "x = np.array([[1, 2, 3], [1, 0, 0], [0, 0, 1]])\n",
        "print(x)"
      ],
      "metadata": {
        "colab": {
          "base_uri": "https://localhost:8080/"
        },
        "id": "UnlY8B1BXaip",
        "outputId": "84ec765b-9167-434c-a348-9ce567806050"
      },
      "execution_count": 33,
      "outputs": [
        {
          "output_type": "stream",
          "name": "stdout",
          "text": [
            "[[1 2 3]\n",
            " [1 0 0]\n",
            " [0 0 1]]\n"
          ]
        }
      ]
    },
    {
      "cell_type": "code",
      "source": [
        "y = inv(x)\n",
        "print(y)"
      ],
      "metadata": {
        "colab": {
          "base_uri": "https://localhost:8080/"
        },
        "id": "z2LC4SIkX7sd",
        "outputId": "0edbaf63-759a-409a-db0e-aff559b1abf3"
      },
      "execution_count": 34,
      "outputs": [
        {
          "output_type": "stream",
          "name": "stdout",
          "text": [
            "[[ 0.   1.   0. ]\n",
            " [ 0.5 -0.5 -1.5]\n",
            " [ 0.   0.   1. ]]\n"
          ]
        }
      ]
    },
    {
      "cell_type": "code",
      "source": [
        "x.dot(y)"
      ],
      "metadata": {
        "colab": {
          "base_uri": "https://localhost:8080/"
        },
        "id": "yxBDzAyPYFie",
        "outputId": "4dea3a5b-81cf-44a9-ae2f-6ca98129670e"
      },
      "execution_count": 35,
      "outputs": [
        {
          "output_type": "execute_result",
          "data": {
            "text/plain": [
              "array([[1., 0., 0.],\n",
              "       [0., 1., 0.],\n",
              "       [0., 0., 1.]])"
            ]
          },
          "metadata": {},
          "execution_count": 35
        }
      ]
    },
    {
      "cell_type": "code",
      "source": [
        "## 난수(랜덤넘버)의 생성\n",
        "\n",
        "\"\"\"\n",
        "함수\t                                분포\n",
        "beta(a, b[, size])\t                  Beta distribution.\n",
        "binomial(n, p[, size])\t              binomial distribution.\n",
        "chisquare(df[, size])\t                chi-square distribution.\n",
        "exponential([scale, size])\t          exponential distribution.\n",
        "f(dfnum, dfden[, size])\t              F distribution.\n",
        "gamma(shape[, scale, size])\t          Gamma distribution.\n",
        "geometric(p[, size])\t                geometric distribution.\n",
        "hypergeometric(ngood, nbad,\t          Hypergeometric distribution.\n",
        "nsample[, size])\t\n",
        "multinomial(n, pvals[, size])\t        multinomial distribution.\n",
        "negative_binomial(n, p[, size])\t      negative binomial distribution.\n",
        "normal([loc, scale, size])\t          normal (Gaussian) distribution.\n",
        "poisson([lam, size])\t                Poisson distribution.\n",
        "\"\"\"\n",
        "\"\"\"\"\"\"\n",
        "\n",
        "np.random.seed(3) # 난수 고정 생성 # 괄호안에 숫자를 입력하면, 그 숫자에선 계속 같은 난수가 고정되어 생성된다.\n",
        "\n",
        "print(np.random.rand(5)) # 0 ~ 1 사이의 수 5개 생성\n",
        "print(np.random.randint(99, size = 5)) # 0 ~ 99 사이의 수 5개 생성"
      ],
      "metadata": {
        "colab": {
          "base_uri": "https://localhost:8080/"
        },
        "id": "Pns4bEh4YIyi",
        "outputId": "4ecaad27-0652-4394-dc28-34d3fc012c3b"
      },
      "execution_count": 36,
      "outputs": [
        {
          "output_type": "stream",
          "name": "stdout",
          "text": [
            "[0.5507979  0.70814782 0.29090474 0.51082761 0.89294695]\n",
            "[74 41 10 21 38]\n"
          ]
        }
      ]
    },
    {
      "cell_type": "code",
      "source": [
        "# 1. 균등분포에서 난수생성\n",
        "\n",
        "x = np.random.uniform(size = 100)\n",
        "x.reshape(20, 5)"
      ],
      "metadata": {
        "colab": {
          "base_uri": "https://localhost:8080/"
        },
        "id": "UoLi73Q0YTGs",
        "outputId": "b313db9a-5e35-4e40-cde7-adda3579ba6b"
      },
      "execution_count": 37,
      "outputs": [
        {
          "output_type": "execute_result",
          "data": {
            "text/plain": [
              "array([[0.44080984, 0.02987621, 0.45683322, 0.64914405, 0.27848728],\n",
              "       [0.6762549 , 0.59086282, 0.02398188, 0.55885409, 0.25925245],\n",
              "       [0.4151012 , 0.28352508, 0.69313792, 0.44045372, 0.15686774],\n",
              "       [0.54464902, 0.78031476, 0.30636353, 0.22195788, 0.38797126],\n",
              "       [0.93638365, 0.97599542, 0.67238368, 0.90283411, 0.84575087],\n",
              "       [0.37799404, 0.09221701, 0.6534109 , 0.55784076, 0.36156476],\n",
              "       [0.2250545 , 0.40651992, 0.46894025, 0.26923558, 0.29179277],\n",
              "       [0.4576864 , 0.86053391, 0.5862529 , 0.28348786, 0.27797751],\n",
              "       [0.45462208, 0.20541034, 0.20137871, 0.51403506, 0.08722937],\n",
              "       [0.48358553, 0.36217621, 0.70768662, 0.74674622, 0.69109292],\n",
              "       [0.68918041, 0.37360012, 0.6681348 , 0.33984866, 0.57279387],\n",
              "       [0.32580716, 0.44514505, 0.06152893, 0.24267542, 0.97160261],\n",
              "       [0.2305842 , 0.69147751, 0.65047686, 0.72393914, 0.47508861],\n",
              "       [0.59666377, 0.06696942, 0.07256214, 0.19897603, 0.151861  ],\n",
              "       [0.10010434, 0.12929386, 0.55327773, 0.18781482, 0.95210124],\n",
              "       [0.68161178, 0.54101967, 0.7071806 , 0.26388667, 0.92672568],\n",
              "       [0.83919306, 0.7263195 , 0.48023996, 0.84210319, 0.74475232],\n",
              "       [0.66032591, 0.91397527, 0.63366556, 0.36594058, 0.55284457],\n",
              "       [0.19638058, 0.1920723 , 0.72566962, 0.7849367 , 0.97209836],\n",
              "       [0.85097142, 0.54359433, 0.08979087, 0.48887324, 0.92793635]])"
            ]
          },
          "metadata": {},
          "execution_count": 37
        }
      ]
    },
    {
      "cell_type": "code",
      "source": [
        "# 2. 정규분포\n",
        "\n",
        "s = np.random.normal(0, 1, 1000)\n",
        "#print(s) # 너무 길어 주석 처리"
      ],
      "metadata": {
        "id": "RRt9ZC92ZbeT"
      },
      "execution_count": 38,
      "outputs": []
    },
    {
      "cell_type": "code",
      "source": [
        "# 더 자세한 그래프는 Plot파트에서 계속\n",
        "import matplotlib.pyplot as plt\n",
        "plt.hist(s)\n",
        "plt.show()"
      ],
      "metadata": {
        "colab": {
          "base_uri": "https://localhost:8080/",
          "height": 430
        },
        "id": "QbptuawVZn4j",
        "outputId": "0f178255-6eb6-4a43-bdcc-01d57a770710"
      },
      "execution_count": 39,
      "outputs": [
        {
          "output_type": "display_data",
          "data": {
            "text/plain": [
              "<Figure size 640x480 with 1 Axes>"
            ],
            "image/png": "[encoded data removed]"
          },
          "metadata": {}
        }
      ]
    }
  ]
}