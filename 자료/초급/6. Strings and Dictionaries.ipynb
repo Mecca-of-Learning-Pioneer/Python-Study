{
  "cells": [
    {
      "cell_type": "code",
      "execution_count": 122,
      "metadata": {
        "colab": {
          "base_uri": "https://localhost:8080/"
        },
        "id": "tx4tR8Toae2H",
        "outputId": "32ab6e0b-3c7a-4ee4-8109-5f9b5451efaa"
      },
      "outputs": [
        {
          "output_type": "execute_result",
          "data": {
            "text/plain": [
              "True"
            ]
          },
          "metadata": {},
          "execution_count": 122
        }
      ],
      "source": [
        "# 문자열\n",
        "x = 'Hello World!'\n",
        "y = \"Hello World!\"\n",
        "x == y"
      ]
    },
    {
      "cell_type": "code",
      "execution_count": 123,
      "metadata": {
        "colab": {
          "base_uri": "https://localhost:8080/"
        },
        "id": "vgg2xbjsae2I",
        "outputId": "1f4e5511-f758-4fcb-ca4b-bb4216491f31"
      },
      "outputs": [
        {
          "output_type": "stream",
          "name": "stdout",
          "text": [
            "I'm Good!\n",
            "My name is \"AI\"\n"
          ]
        }
      ],
      "source": [
        "print(\"I'm Good!\")\n",
        "print('My name is \"AI\"')"
      ]
    },
    {
      "cell_type": "code",
      "execution_count": 124,
      "metadata": {
        "colab": {
          "base_uri": "https://localhost:8080/",
          "height": 137
        },
        "id": "VgQGP0vRae2K",
        "outputId": "df743c14-621f-4581-cb1d-2e77cc3221db"
      },
      "outputs": [
        {
          "output_type": "error",
          "ename": "SyntaxError",
          "evalue": "ignored",
          "traceback": [
            "\u001b[0;36m  File \u001b[0;32m\"<ipython-input-124-0ecef874e297>\"\u001b[0;36m, line \u001b[0;32m2\u001b[0m\n\u001b[0;31m    'I'm Good!'\u001b[0m\n\u001b[0m              ^\u001b[0m\n\u001b[0;31mSyntaxError\u001b[0m\u001b[0;31m:\u001b[0m unterminated string literal (detected at line 2)\n"
          ]
        }
      ],
      "source": [
        "# 문자열을 묶어주는 따옴표가 중간에 나오는 따옴표와 같으면 오류 발생\n",
        "'I'm Good!'"
      ]
    },
    {
      "cell_type": "code",
      "execution_count": 135,
      "metadata": {
        "colab": {
          "base_uri": "https://localhost:8080/",
          "height": 35
        },
        "id": "1LPhuRuiae2N",
        "outputId": "d4dab422-231a-4d26-fc4d-008a118281fa"
      },
      "outputs": [
        {
          "output_type": "execute_result",
          "data": {
            "text/plain": [
              "\"I'm Good!\""
            ],
            "application/vnd.google.colaboratory.intrinsic+json": {
              "type": "string"
            }
          },
          "metadata": {},
          "execution_count": 135
        }
      ],
      "source": [
        "# \\'로 해결\n",
        "'I\\'m Good!'"
      ]
    },
    {
      "cell_type": "code",
      "source": [
        "# \\\"로 해결\n",
        "\"My name is \\\"AI\\\"\""
      ],
      "metadata": {
        "colab": {
          "base_uri": "https://localhost:8080/",
          "height": 35
        },
        "id": "KGYhS5RVZ5ST",
        "outputId": "7650ab9d-77f8-476e-f9b4-43d2d493f889"
      },
      "execution_count": 136,
      "outputs": [
        {
          "output_type": "execute_result",
          "data": {
            "text/plain": [
              "'My name is \"AI\"'"
            ],
            "application/vnd.google.colaboratory.intrinsic+json": {
              "type": "string"
            }
          },
          "metadata": {},
          "execution_count": 136
        }
      ]
    },
    {
      "cell_type": "code",
      "execution_count": 137,
      "metadata": {
        "colab": {
          "base_uri": "https://localhost:8080/"
        },
        "id": "Pa1frhjZae2Q",
        "outputId": "5a2c9642-cf95-4ef1-b83d-8849adb97e71"
      },
      "outputs": [
        {
          "output_type": "stream",
          "name": "stdout",
          "text": [
            "Hello\n",
            "World!\n"
          ]
        }
      ],
      "source": [
        "# \\n : 엔터\n",
        "h = \"Hello\\nWorld!\"\n",
        "print(h)"
      ]
    },
    {
      "cell_type": "code",
      "execution_count": 138,
      "metadata": {
        "colab": {
          "base_uri": "https://localhost:8080/"
        },
        "id": "zj7AkryRae2R",
        "outputId": "e42447ed-834d-41fc-bdf0-7aa4598b037b"
      },
      "outputs": [
        {
          "output_type": "stream",
          "name": "stdout",
          "text": [
            "Hello\n",
            "World!\n"
          ]
        },
        {
          "output_type": "execute_result",
          "data": {
            "text/plain": [
              "True"
            ]
          },
          "metadata": {},
          "execution_count": 138
        }
      ],
      "source": [
        "# 여러줄 주석\n",
        "h2 = \"\"\"Hello\n",
        "World!\"\"\"\n",
        "print(h2)\n",
        "h2 == h"
      ]
    },
    {
      "cell_type": "code",
      "execution_count": 139,
      "metadata": {
        "colab": {
          "base_uri": "https://localhost:8080/"
        },
        "id": "DYZlaJAKae2T",
        "outputId": "db092ef6-461e-481c-82c1-ec6ffa3c00c8"
      },
      "outputs": [
        {
          "output_type": "stream",
          "name": "stdout",
          "text": [
            "Hello\n",
            "World!\n",
            "HelloWorld!"
          ]
        }
      ],
      "source": [
        "# 끝 맺음 문자 설정\n",
        "print(\"Hello\")\n",
        "print(\"World!\")\n",
        "print(\"Hello\", end = '')\n",
        "print(\"World!\", end = '')"
      ]
    },
    {
      "cell_type": "code",
      "execution_count": 140,
      "metadata": {
        "colab": {
          "base_uri": "https://localhost:8080/",
          "height": 35
        },
        "id": "Xb84agoyae2U",
        "outputId": "7b5b6e92-0efb-4e0b-b589-0576688ae832"
      },
      "outputs": [
        {
          "output_type": "execute_result",
          "data": {
            "text/plain": [
              "'H'"
            ],
            "application/vnd.google.colaboratory.intrinsic+json": {
              "type": "string"
            }
          },
          "metadata": {},
          "execution_count": 140
        }
      ],
      "source": [
        "# 인덱싱\n",
        "h = 'Hello'\n",
        "h[0]"
      ]
    },
    {
      "cell_type": "code",
      "execution_count": 141,
      "metadata": {
        "colab": {
          "base_uri": "https://localhost:8080/",
          "height": 35
        },
        "id": "-x75ESLXae2W",
        "outputId": "00d32fd9-c5c2-45f0-a1d4-2e957d3cac73"
      },
      "outputs": [
        {
          "output_type": "execute_result",
          "data": {
            "text/plain": [
              "'llo'"
            ],
            "application/vnd.google.colaboratory.intrinsic+json": {
              "type": "string"
            }
          },
          "metadata": {},
          "execution_count": 141
        }
      ],
      "source": [
        "# 슬라이싱\n",
        "h[-3:]"
      ]
    },
    {
      "cell_type": "code",
      "execution_count": 142,
      "metadata": {
        "colab": {
          "base_uri": "https://localhost:8080/"
        },
        "id": "XpvGaMbWae2X",
        "outputId": "fa917394-2636-4867-efb5-13902adfee07"
      },
      "outputs": [
        {
          "output_type": "execute_result",
          "data": {
            "text/plain": [
              "5"
            ]
          },
          "metadata": {},
          "execution_count": 142
        }
      ],
      "source": [
        "# 문자열 길이\n",
        "len(h)"
      ]
    },
    {
      "cell_type": "code",
      "execution_count": 143,
      "metadata": {
        "colab": {
          "base_uri": "https://localhost:8080/"
        },
        "id": "LnHGZ5gJae2Z",
        "outputId": "91641b68-5a50-466c-934d-bcd7200a21cc"
      },
      "outputs": [
        {
          "output_type": "stream",
          "name": "stdout",
          "text": [
            "H! e! l! l! o! "
          ]
        }
      ],
      "source": [
        "# for문 사용 가능\n",
        "for char in h:\n",
        "  print(char + '!', end = ' ')"
      ]
    },
    {
      "cell_type": "code",
      "execution_count": 144,
      "metadata": {
        "colab": {
          "base_uri": "https://localhost:8080/",
          "height": 193
        },
        "id": "t74Naq77ae2b",
        "outputId": "38b92945-e225-4ad9-9cde-9fa80c3fa8e6"
      },
      "outputs": [
        {
          "output_type": "error",
          "ename": "TypeError",
          "evalue": "ignored",
          "traceback": [
            "\u001b[0;31m---------------------------------------------------------------------------\u001b[0m",
            "\u001b[0;31mTypeError\u001b[0m                                 Traceback (most recent call last)",
            "\u001b[0;32m<ipython-input-144-ddab035822b1>\u001b[0m in \u001b[0;36m<cell line: 2>\u001b[0;34m()\u001b[0m\n\u001b[1;32m      1\u001b[0m \u001b[0;31m# 문자 변경 불가능\u001b[0m\u001b[0;34m\u001b[0m\u001b[0;34m\u001b[0m\u001b[0m\n\u001b[0;32m----> 2\u001b[0;31m \u001b[0mh\u001b[0m\u001b[0;34m[\u001b[0m\u001b[0;36m0\u001b[0m\u001b[0;34m]\u001b[0m \u001b[0;34m=\u001b[0m \u001b[0;34m'B'\u001b[0m\u001b[0;34m\u001b[0m\u001b[0;34m\u001b[0m\u001b[0m\n\u001b[0m",
            "\u001b[0;31mTypeError\u001b[0m: 'str' object does not support item assignment"
          ]
        }
      ],
      "source": [
        "# 문자 변경 불가능\n",
        "h[0] = 'B'"
      ]
    },
    {
      "cell_type": "code",
      "execution_count": 145,
      "metadata": {
        "colab": {
          "base_uri": "https://localhost:8080/",
          "height": 35
        },
        "id": "zazqrPjoae2f",
        "outputId": "e8a284c2-3c34-490c-9b74-debe3ff7c70d"
      },
      "outputs": [
        {
          "output_type": "execute_result",
          "data": {
            "text/plain": [
              "'hello world!'"
            ],
            "application/vnd.google.colaboratory.intrinsic+json": {
              "type": "string"
            }
          },
          "metadata": {},
          "execution_count": 145
        }
      ],
      "source": [
        "# .lower() : 모든 문자 소문자로\n",
        "h = \"HELLO WORLD!\"\n",
        "h.lower()"
      ]
    },
    {
      "cell_type": "code",
      "execution_count": 146,
      "metadata": {
        "colab": {
          "base_uri": "https://localhost:8080/",
          "height": 35
        },
        "id": "QL3DgjVzae2d",
        "outputId": "3caa058a-99d5-4522-ab61-e669e517ba52"
      },
      "outputs": [
        {
          "output_type": "execute_result",
          "data": {
            "text/plain": [
              "'HELLO WORLD!'"
            ],
            "application/vnd.google.colaboratory.intrinsic+json": {
              "type": "string"
            }
          },
          "metadata": {},
          "execution_count": 146
        }
      ],
      "source": [
        "# .upper() : 모든 문자 대문자로\n",
        "h = \"hello world!\"\n",
        "h.upper()"
      ]
    },
    {
      "cell_type": "code",
      "execution_count": 147,
      "metadata": {
        "colab": {
          "base_uri": "https://localhost:8080/"
        },
        "id": "Y7K8xOnyae2h",
        "outputId": "6deefda8-d541-43d1-eb1a-00feaa2c5591"
      },
      "outputs": [
        {
          "output_type": "execute_result",
          "data": {
            "text/plain": [
              "6"
            ]
          },
          "metadata": {},
          "execution_count": 147
        }
      ],
      "source": [
        "# index() : 해당 단어 시작 위치\n",
        "h.index(\"world\")"
      ]
    },
    {
      "cell_type": "code",
      "execution_count": 148,
      "metadata": {
        "colab": {
          "base_uri": "https://localhost:8080/"
        },
        "id": "9QjgiL32ae2i",
        "outputId": "86831ea0-e890-4697-c7a2-9c331cf72836"
      },
      "outputs": [
        {
          "output_type": "execute_result",
          "data": {
            "text/plain": [
              "True"
            ]
          },
          "metadata": {},
          "execution_count": 148
        }
      ],
      "source": [
        "# startswith() : 해당 단어로 시작하는지 여부\n",
        "h.startswith(\"hello\")"
      ]
    },
    {
      "cell_type": "code",
      "execution_count": 149,
      "metadata": {
        "colab": {
          "base_uri": "https://localhost:8080/"
        },
        "id": "4cUgbk-cae2j",
        "outputId": "32b08431-5850-4686-ab31-cae010226210"
      },
      "outputs": [
        {
          "output_type": "execute_result",
          "data": {
            "text/plain": [
              "False"
            ]
          },
          "metadata": {},
          "execution_count": 149
        }
      ],
      "source": [
        "# startswith() : 해당 단어로 끝나는지 여부\n",
        "h.endswith(\"world\")"
      ]
    },
    {
      "cell_type": "code",
      "source": [
        "h.endswith(\"world!\") # 정확히 마지막까지 일치해야 True"
      ],
      "metadata": {
        "colab": {
          "base_uri": "https://localhost:8080/"
        },
        "id": "RMyldzjXchrZ",
        "outputId": "0c516bfa-04b5-4279-df6a-79edf1d4040a"
      },
      "execution_count": 150,
      "outputs": [
        {
          "output_type": "execute_result",
          "data": {
            "text/plain": [
              "True"
            ]
          },
          "metadata": {},
          "execution_count": 150
        }
      ]
    },
    {
      "cell_type": "code",
      "execution_count": 151,
      "metadata": {
        "colab": {
          "base_uri": "https://localhost:8080/"
        },
        "id": "8S_3X46Nae2k",
        "outputId": "4a2e090e-e612-45a1-fa58-d03acea9c8db"
      },
      "outputs": [
        {
          "output_type": "execute_result",
          "data": {
            "text/plain": [
              "['hello', 'world!']"
            ]
          },
          "metadata": {},
          "execution_count": 151
        }
      ],
      "source": [
        "# 문자열 분리\n",
        "words = h.split()\n",
        "words"
      ]
    },
    {
      "cell_type": "code",
      "execution_count": 152,
      "metadata": {
        "id": "5y66wPPyae2l",
        "colab": {
          "base_uri": "https://localhost:8080/"
        },
        "outputId": "15c06f62-374d-46c0-808a-e8e5ce760a5f"
      },
      "outputs": [
        {
          "output_type": "stream",
          "name": "stdout",
          "text": [
            "2023\n",
            "03\n",
            "02\n"
          ]
        }
      ],
      "source": [
        "datestr = \"2023-03-02\"\n",
        "year, month, day = datestr.split('-')\n",
        "\n",
        "print(year)\n",
        "print(month)\n",
        "print(day)"
      ]
    },
    {
      "cell_type": "code",
      "execution_count": 153,
      "metadata": {
        "colab": {
          "base_uri": "https://localhost:8080/",
          "height": 35
        },
        "id": "5fv6hY3Iae2l",
        "outputId": "88eb24b2-c0b0-4ec8-cb95-cafc1bd4958e"
      },
      "outputs": [
        {
          "output_type": "execute_result",
          "data": {
            "text/plain": [
              "'03/02/2023'"
            ],
            "application/vnd.google.colaboratory.intrinsic+json": {
              "type": "string"
            }
          },
          "metadata": {},
          "execution_count": 153
        }
      ],
      "source": [
        "# 문자열 합치기\n",
        "'/'.join([month, day, year])"
      ]
    },
    {
      "cell_type": "code",
      "execution_count": 154,
      "metadata": {
        "colab": {
          "base_uri": "https://localhost:8080/",
          "height": 211
        },
        "id": "5xNbFd8Kae2o",
        "outputId": "024e4b74-620a-4774-e6e3-6db3980d8a96"
      },
      "outputs": [
        {
          "output_type": "error",
          "ename": "TypeError",
          "evalue": "ignored",
          "traceback": [
            "\u001b[0;31m---------------------------------------------------------------------------\u001b[0m",
            "\u001b[0;31mTypeError\u001b[0m                                 Traceback (most recent call last)",
            "\u001b[0;32m<ipython-input-154-e583b9aa1d9e>\u001b[0m in \u001b[0;36m<cell line: 3>\u001b[0;34m()\u001b[0m\n\u001b[1;32m      1\u001b[0m \u001b[0;31m# 문자열 '+' 연산\u001b[0m\u001b[0;34m\u001b[0m\u001b[0;34m\u001b[0m\u001b[0m\n\u001b[1;32m      2\u001b[0m \u001b[0mdate\u001b[0m \u001b[0;34m=\u001b[0m \u001b[0;36m270228\u001b[0m\u001b[0;34m\u001b[0m\u001b[0;34m\u001b[0m\u001b[0m\n\u001b[0;32m----> 3\u001b[0;31m \u001b[0mh\u001b[0m \u001b[0;34m+\u001b[0m \u001b[0;34m\" DONGA, \"\u001b[0m \u001b[0;34m+\u001b[0m \u001b[0mdate\u001b[0m \u001b[0;34m+\u001b[0m \u001b[0;34m\"bye world.\"\u001b[0m \u001b[0;31m# date가 숫자라 오류 발생\u001b[0m\u001b[0;34m\u001b[0m\u001b[0;34m\u001b[0m\u001b[0m\n\u001b[0m",
            "\u001b[0;31mTypeError\u001b[0m: can only concatenate str (not \"int\") to str"
          ]
        }
      ],
      "source": [
        "# 문자열 '+' 연산\n",
        "date = 270228\n",
        "h + \" DONGA, \" + date + \"bye world.\" # date가 숫자라 오류 발생"
      ]
    },
    {
      "cell_type": "code",
      "execution_count": 155,
      "metadata": {
        "colab": {
          "base_uri": "https://localhost:8080/",
          "height": 35
        },
        "id": "d-NLwXZoae2p",
        "outputId": "56c54e06-62f6-4bc6-d20b-097b2024eed8"
      },
      "outputs": [
        {
          "output_type": "execute_result",
          "data": {
            "text/plain": [
              "'hello world! DONGA, 270228 bye world.'"
            ],
            "application/vnd.google.colaboratory.intrinsic+json": {
              "type": "string"
            }
          },
          "metadata": {},
          "execution_count": 155
        }
      ],
      "source": [
        "h + \" DONGA, \" + str(date) + \" bye world.\""
      ]
    },
    {
      "cell_type": "code",
      "execution_count": 156,
      "metadata": {
        "colab": {
          "base_uri": "https://localhost:8080/",
          "height": 35
        },
        "id": "HwJIZB1hae2r",
        "outputId": "1eeedc67-6173-41f3-e04c-a722ec35ee60"
      },
      "outputs": [
        {
          "output_type": "execute_result",
          "data": {
            "text/plain": [
              "'hello world! DONGA, 270228 bye world.'"
            ],
            "application/vnd.google.colaboratory.intrinsic+json": {
              "type": "string"
            }
          },
          "metadata": {},
          "execution_count": 156
        }
      ],
      "source": [
        "\"{} DONGA, {} bye world.\".format(h, date) # 추천"
      ]
    },
    {
      "cell_type": "code",
      "execution_count": 157,
      "metadata": {
        "colab": {
          "base_uri": "https://localhost:8080/"
        },
        "id": "yqJMsnfgae2u",
        "outputId": "0fc0c6fb-b38e-4e24-febb-4f4392eb8b1f"
      },
      "outputs": [
        {
          "output_type": "stream",
          "name": "stdout",
          "text": [
            "Hello World!\n",
            "Bye World.\n",
            "Hello!\n",
            "Bye\n"
          ]
        }
      ],
      "source": [
        "# 여러번 사용하기\n",
        "s = \"\"\"{0} World!\n",
        "{1} World.\n",
        "{0}!\n",
        "{1}\"\"\".format(\"Hello\", \"Bye\")\n",
        "print(s)"
      ]
    },
    {
      "cell_type": "code",
      "execution_count": 158,
      "metadata": {
        "id": "Ok69P3pPae2w"
      },
      "outputs": [],
      "source": [
        "# 딕셔너리\n",
        "numbers = {\"one\" : 1, \"two\" : 2, \"three\" : 3} # 키 : 값"
      ]
    },
    {
      "cell_type": "code",
      "execution_count": 159,
      "metadata": {
        "colab": {
          "base_uri": "https://localhost:8080/"
        },
        "id": "iGRmAuXKae2x",
        "outputId": "19b50d56-a4b2-41be-cb3e-da28c119c278"
      },
      "outputs": [
        {
          "output_type": "execute_result",
          "data": {
            "text/plain": [
              "1"
            ]
          },
          "metadata": {},
          "execution_count": 159
        }
      ],
      "source": [
        "numbers[\"one\"]"
      ]
    },
    {
      "cell_type": "code",
      "execution_count": 160,
      "metadata": {
        "colab": {
          "base_uri": "https://localhost:8080/"
        },
        "id": "A1RMgJgOae2y",
        "outputId": "ddb19501-840c-41aa-f0dd-4422372a2135"
      },
      "outputs": [
        {
          "output_type": "execute_result",
          "data": {
            "text/plain": [
              "{'one': 1, 'two': 2, 'three': 3, 'eleven': 11}"
            ]
          },
          "metadata": {},
          "execution_count": 160
        }
      ],
      "source": [
        "# 딕셔너리 추가\n",
        "numbers[\"eleven\"] = 11\n",
        "numbers"
      ]
    },
    {
      "cell_type": "code",
      "execution_count": 161,
      "metadata": {
        "colab": {
          "base_uri": "https://localhost:8080/"
        },
        "id": "1S3lym6Nae2y",
        "outputId": "fffc2c37-bb07-42ed-bf91-96a6d189612b"
      },
      "outputs": [
        {
          "output_type": "execute_result",
          "data": {
            "text/plain": [
              "{'one': 'Hello', 'two': 2, 'three': 3, 'eleven': 11}"
            ]
          },
          "metadata": {},
          "execution_count": 161
        }
      ],
      "source": [
        "# 딕셔너리 값 변경\n",
        "numbers[\"one\"] = \"Hello\"\n",
        "numbers"
      ]
    },
    {
      "cell_type": "code",
      "execution_count": 162,
      "metadata": {
        "colab": {
          "base_uri": "https://localhost:8080/"
        },
        "id": "aIqSSNHuae20",
        "outputId": "de431f91-a28c-4b5e-bfac-9a8b8b38eb3d"
      },
      "outputs": [
        {
          "output_type": "execute_result",
          "data": {
            "text/plain": [
              "True"
            ]
          },
          "metadata": {},
          "execution_count": 162
        }
      ],
      "source": [
        "# 키 존재 확인\n",
        "\"one\" in numbers"
      ]
    },
    {
      "cell_type": "code",
      "execution_count": 163,
      "metadata": {
        "colab": {
          "base_uri": "https://localhost:8080/"
        },
        "id": "6wweqhbeae21",
        "outputId": "5ceff8e6-265e-4377-a5e8-d6c1a1ec6c60"
      },
      "outputs": [
        {
          "output_type": "execute_result",
          "data": {
            "text/plain": [
              "False"
            ]
          },
          "metadata": {},
          "execution_count": 163
        }
      ],
      "source": [
        "\"six\" in numbers"
      ]
    },
    {
      "cell_type": "code",
      "execution_count": 164,
      "metadata": {
        "colab": {
          "base_uri": "https://localhost:8080/"
        },
        "id": "WHsEzp7hae22",
        "outputId": "2f4f2c7d-736e-4e62-a68b-21860253cd19"
      },
      "outputs": [
        {
          "output_type": "stream",
          "name": "stdout",
          "text": [
            "one = Hello\n",
            "two = 2\n",
            "three = 3\n",
            "eleven = 11\n"
          ]
        }
      ],
      "source": [
        "# 딕셔너리 for문은 키를 반복\n",
        "for k in numbers:\n",
        "    print(\"{} = {}\".format(k, numbers[k]))"
      ]
    },
    {
      "cell_type": "code",
      "execution_count": 165,
      "metadata": {
        "colab": {
          "base_uri": "https://localhost:8080/"
        },
        "id": "8xsH0qN6ae22",
        "outputId": "072dee2f-6f50-4adb-ac42-9b68dd8d7872"
      },
      "outputs": [
        {
          "output_type": "stream",
          "name": "stdout",
          "text": [
            "dict_keys(['one', 'two', 'three', 'eleven'])\n",
            "dict_values(['Hello', 2, 3, 11])\n"
          ]
        }
      ],
      "source": [
        "# .key() : 키 접근, .values() : 값 접근\n",
        "print(numbers.keys())\n",
        "print(numbers.values())"
      ]
    },
    {
      "cell_type": "code",
      "execution_count": 166,
      "metadata": {
        "colab": {
          "base_uri": "https://localhost:8080/"
        },
        "id": "UM960csXae23",
        "outputId": "9d0df56c-5e35-45ca-9673-4c5c679bf7fc"
      },
      "outputs": [
        {
          "output_type": "stream",
          "name": "stdout",
          "text": [
            "one = Hello\n",
            "two = 2\n",
            "three = 3\n",
            "eleven = 11\n"
          ]
        }
      ],
      "source": [
        "# .items() 이용 시 키와 값을 동시에 반복\n",
        "for k, v in numbers.items():\n",
        "    print(\"{} = {}\".format(k, v))"
      ]
    }
  ],
  "metadata": {
    "kernelspec": {
      "display_name": "Python 3",
      "language": "python",
      "name": "python3"
    },
    "language_info": {
      "codemirror_mode": {
        "name": "ipython",
        "version": 3
      },
      "file_extension": ".py",
      "mimetype": "text/x-python",
      "name": "python",
      "nbconvert_exporter": "python",
      "pygments_lexer": "ipython3",
      "version": "3.11.2"
    },
    "orig_nbformat": 4,
    "colab": {
      "provenance": []
    }
  },
  "nbformat": 4,
  "nbformat_minor": 0
}