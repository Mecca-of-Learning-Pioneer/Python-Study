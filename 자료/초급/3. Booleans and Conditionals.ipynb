{
  "nbformat": 4,
  "nbformat_minor": 0,
  "metadata": {
    "colab": {
      "provenance": []
    },
    "kernelspec": {
      "name": "python3",
      "display_name": "Python 3"
    },
    "language_info": {
      "name": "python"
    }
  },
  "cells": [
    {
      "cell_type": "code",
      "execution_count": 24,
      "metadata": {
        "colab": {
          "base_uri": "https://localhost:8080/"
        },
        "id": "DQWc795CRXi0",
        "outputId": "c9b4fbec-1e82-41b2-8db2-869e019c3ced"
      },
      "outputs": [
        {
          "output_type": "stream",
          "name": "stdout",
          "text": [
            "True\n",
            "<class 'bool'>\n"
          ]
        }
      ],
      "source": [
        "# int, string 타입과 마찬가지로 bool형도 타입지정하지 않음\n",
        "x = True\n",
        "print(x)\n",
        "print(type(x))"
      ]
    },
    {
      "cell_type": "code",
      "source": [
        "# 비교 연산\n",
        "  # 비교 연산은 True 또는 False의 결과만 반환함\n",
        "\"\"\"\n",
        "Operation    Description\t\t                Operation\t    Description\n",
        "a == b       a equal to b\t\t                a != b\t      a not equal to b\n",
        "a < b\t       a less than b\t\t              a > b\t        a greater than b\n",
        "a <= b\t     a less than or equal to b\t    a >= b\t      a greater than or equal to b\n",
        "\"\"\"\n",
        "\"\"\"\"\"\""
      ],
      "metadata": {
        "colab": {
          "base_uri": "https://localhost:8080/",
          "height": 35
        },
        "id": "rhpzUehYRhQ1",
        "outputId": "e514da74-5467-4f86-8142-cc8b5614b612"
      },
      "execution_count": 25,
      "outputs": [
        {
          "output_type": "execute_result",
          "data": {
            "text/plain": [
              "''"
            ],
            "application/vnd.google.colaboratory.intrinsic+json": {
              "type": "string"
            }
          },
          "metadata": {},
          "execution_count": 25
        }
      ]
    },
    {
      "cell_type": "code",
      "source": [
        "# 5보다 큰 수인지 판단하는 함수\n",
        "def compare(a):\n",
        "  return a > 5\n",
        "\n",
        "print(compare(6))\n",
        "print(compare(3))"
      ],
      "metadata": {
        "colab": {
          "base_uri": "https://localhost:8080/"
        },
        "id": "nM-yU2A2RhtE",
        "outputId": "d06b3f3a-64e2-405a-d7f7-d7d6f3712bda"
      },
      "execution_count": 26,
      "outputs": [
        {
          "output_type": "stream",
          "name": "stdout",
          "text": [
            "True\n",
            "False\n"
          ]
        }
      ]
    },
    {
      "cell_type": "code",
      "source": [
        "# float형 / int형\n",
        "3.0 == 3"
      ],
      "metadata": {
        "colab": {
          "base_uri": "https://localhost:8080/"
        },
        "id": "Q9wX4dmrRx_M",
        "outputId": "4f61408b-7234-47c9-ca1c-3c2a33b3d14c"
      },
      "execution_count": 27,
      "outputs": [
        {
          "output_type": "execute_result",
          "data": {
            "text/plain": [
              "True"
            ]
          },
          "metadata": {},
          "execution_count": 27
        }
      ]
    },
    {
      "cell_type": "code",
      "source": [
        "# str형 / int형\n",
        "'3' == 3"
      ],
      "metadata": {
        "colab": {
          "base_uri": "https://localhost:8080/"
        },
        "id": "oSQ_f5miRzsA",
        "outputId": "0b1bf1eb-3cf5-4cbf-ee38-44e07cc53298"
      },
      "execution_count": 28,
      "outputs": [
        {
          "output_type": "execute_result",
          "data": {
            "text/plain": [
              "False"
            ]
          },
          "metadata": {},
          "execution_count": 28
        }
      ]
    },
    {
      "cell_type": "code",
      "source": [
        "# 홀수 판별 함수\n",
        "def odd(n):\n",
        "  return (n % 2) == 1\n",
        "\n",
        "print(odd(100))"
      ],
      "metadata": {
        "colab": {
          "base_uri": "https://localhost:8080/"
        },
        "id": "Q2ov327SR0iZ",
        "outputId": "a16086fd-5301-4648-aa77-2b445b5bd243"
      },
      "execution_count": 29,
      "outputs": [
        {
          "output_type": "stream",
          "name": "stdout",
          "text": [
            "False\n"
          ]
        }
      ]
    },
    {
      "cell_type": "code",
      "source": [
        "# and, or, not 연산\n",
        "\n",
        "\"\"\"\n",
        "# and 연산 - 둘 다 True여야 True\n",
        "True and True => True\n",
        "True and False => False\n",
        "False and False => False\n",
        "\n",
        "# or 연산 - 둘 중 하나만 True여도 True\n",
        "True or True => True\n",
        "True or False => True\n",
        "False or False => False\n",
        "\n",
        "not True => False\n",
        "not False => True\n",
        "\"\"\""
      ],
      "metadata": {
        "colab": {
          "base_uri": "https://localhost:8080/",
          "height": 54
        },
        "id": "eGVTxv-OdOlS",
        "outputId": "5c7006e3-691d-4bb5-87d7-78e46c9e6287"
      },
      "execution_count": 30,
      "outputs": [
        {
          "output_type": "execute_result",
          "data": {
            "text/plain": [
              "'\\n# and 연산 - 둘 다 True여야 True\\nTrue and True => True\\nTrue and False => False\\nFalse and False => False\\n\\n# or 연산 - 둘 중 하나만 True여도 True\\nTrue or True => True\\nTrue or False => True\\nFalse or False => False\\n\\nnot True => False\\nnot False => True\\n'"
            ],
            "application/vnd.google.colaboratory.intrinsic+json": {
              "type": "string"
            }
          },
          "metadata": {},
          "execution_count": 30
        }
      ]
    },
    {
      "cell_type": "code",
      "source": [
        "True and (5 > 3)"
      ],
      "metadata": {
        "colab": {
          "base_uri": "https://localhost:8080/"
        },
        "id": "FerpMBjRSCjt",
        "outputId": "6d4b1412-97ac-4c0e-87fd-274c4dbbb25e"
      },
      "execution_count": 31,
      "outputs": [
        {
          "output_type": "execute_result",
          "data": {
            "text/plain": [
              "True"
            ]
          },
          "metadata": {},
          "execution_count": 31
        }
      ]
    },
    {
      "cell_type": "code",
      "source": [
        "False or (5 > 2)"
      ],
      "metadata": {
        "colab": {
          "base_uri": "https://localhost:8080/"
        },
        "id": "guvBd0dDSQ3k",
        "outputId": "70eca51b-8572-4a9a-dae4-16938c752c31"
      },
      "execution_count": 32,
      "outputs": [
        {
          "output_type": "execute_result",
          "data": {
            "text/plain": [
              "True"
            ]
          },
          "metadata": {},
          "execution_count": 32
        }
      ]
    },
    {
      "cell_type": "code",
      "source": [
        "# and 우선순위 > or 우선순위\n",
        "True or True and False # == (True or (True and False))"
      ],
      "metadata": {
        "id": "HMJAnAAvSToC",
        "colab": {
          "base_uri": "https://localhost:8080/"
        },
        "outputId": "34386282-5f1c-45e7-9174-04d859cf412d"
      },
      "execution_count": 33,
      "outputs": [
        {
          "output_type": "execute_result",
          "data": {
            "text/plain": [
              "True"
            ]
          },
          "metadata": {},
          "execution_count": 33
        }
      ]
    },
    {
      "cell_type": "code",
      "source": [
        "6 > 1 or 3 > 5 and 15 < 9 or not 1 < 3 and 3 > 2"
      ],
      "metadata": {
        "colab": {
          "base_uri": "https://localhost:8080/"
        },
        "id": "RP23Ay3yS1Q8",
        "outputId": "1cbf8ff5-8e26-43b4-fb1d-db0f1fce708a"
      },
      "execution_count": 34,
      "outputs": [
        {
          "output_type": "execute_result",
          "data": {
            "text/plain": [
              "True"
            ]
          },
          "metadata": {},
          "execution_count": 34
        }
      ]
    },
    {
      "cell_type": "code",
      "source": [
        "(6 > 1) or (3 > 5) and (15 < 9) or not (1 < 3) and (3 > 2)"
      ],
      "metadata": {
        "colab": {
          "base_uri": "https://localhost:8080/"
        },
        "id": "SOpyarH5Tcdu",
        "outputId": "b023a1e1-ed53-4e26-cd6e-c4009b0c5f1a"
      },
      "execution_count": 35,
      "outputs": [
        {
          "output_type": "execute_result",
          "data": {
            "text/plain": [
              "True"
            ]
          },
          "metadata": {},
          "execution_count": 35
        }
      ]
    },
    {
      "cell_type": "code",
      "source": [
        "(6 > 1) or (3 > 5) and (15 < 9) or (not (1 < 3)) and (3 > 2)"
      ],
      "metadata": {
        "colab": {
          "base_uri": "https://localhost:8080/"
        },
        "id": "fGnEWCqzTqRX",
        "outputId": "5edf5d8b-abba-43fb-8591-1224aecad249"
      },
      "execution_count": 36,
      "outputs": [
        {
          "output_type": "execute_result",
          "data": {
            "text/plain": [
              "True"
            ]
          },
          "metadata": {},
          "execution_count": 36
        }
      ]
    },
    {
      "cell_type": "code",
      "source": [
        "# 가독성이 좋게 줄 나누기\n",
        "(\n",
        "    (6 > 1)\n",
        "    or (3 > 5)\n",
        "    and (15 < 9)\n",
        "    or (not (1 < 3))\n",
        "    and (3 > 2)\n",
        ")"
      ],
      "metadata": {
        "colab": {
          "base_uri": "https://localhost:8080/"
        },
        "id": "ZV1xkVKqTvh-",
        "outputId": "1cfd5210-845d-4296-aadc-c8916a3af8a2"
      },
      "execution_count": 37,
      "outputs": [
        {
          "output_type": "execute_result",
          "data": {
            "text/plain": [
              "True"
            ]
          },
          "metadata": {},
          "execution_count": 37
        }
      ]
    },
    {
      "cell_type": "code",
      "source": [
        "# if - elif - else 사용\n",
        "def inspect(x):\n",
        "  if x == 0:\n",
        "    print('0')\n",
        "  elif x > 0:\n",
        "    print(\"양수\")\n",
        "  elif x < 0:\n",
        "    print(\"음수\")\n",
        "  else:\n",
        "    print(\"몰라요.\")\n",
        "\n",
        "inspect(0)\n",
        "inspect(-15)"
      ],
      "metadata": {
        "colab": {
          "base_uri": "https://localhost:8080/"
        },
        "id": "QT76WlS1TxZ0",
        "outputId": "babe5649-8826-49a5-b669-844b7cefa29c"
      },
      "execution_count": 38,
      "outputs": [
        {
          "output_type": "stream",
          "name": "stdout",
          "text": [
            "0\n",
            "음수\n"
          ]
        }
      ]
    },
    {
      "cell_type": "code",
      "source": [
        "# 들여쓰기까지가 영향 범위\n",
        "def f(x):\n",
        "  if x > 0:\n",
        "    print(x)\n",
        "    print(x)\n",
        "  print(x)\n",
        "\n",
        "f(1)\n",
        "f(0)"
      ],
      "metadata": {
        "colab": {
          "base_uri": "https://localhost:8080/"
        },
        "id": "EOxn2dRAUrI1",
        "outputId": "e8ee62bf-f664-42de-bdf9-cb3de7cf0d54"
      },
      "execution_count": 39,
      "outputs": [
        {
          "output_type": "stream",
          "name": "stdout",
          "text": [
            "1\n",
            "1\n",
            "1\n",
            "0\n"
          ]
        }
      ]
    },
    {
      "cell_type": "code",
      "source": [
        "# bool형으로 형(타입)변환\n",
        "  # 0을 제외한 수는 True\n",
        "print(bool(-1))\n",
        "print(bool(0))\n",
        "  # 띄어쓰기 포함 무엇이라도 작성되어있으면 True\n",
        "print(bool(\"asdf\"))\n",
        "print(bool(\" \"))\n",
        "print(bool(''))"
      ],
      "metadata": {
        "colab": {
          "base_uri": "https://localhost:8080/"
        },
        "id": "xAX4E-w-VS0F",
        "outputId": "90ce5c37-55c7-45e0-ed15-eea035dd3dec"
      },
      "execution_count": 40,
      "outputs": [
        {
          "output_type": "stream",
          "name": "stdout",
          "text": [
            "True\n",
            "False\n",
            "True\n",
            "True\n",
            "False\n"
          ]
        }
      ]
    },
    {
      "cell_type": "code",
      "source": [
        "# bool형 대신 사용\n",
        "if 0:\n",
        "  print(0)\n",
        "elif \"qwer\":\n",
        "  print(\"Hello\")"
      ],
      "metadata": {
        "colab": {
          "base_uri": "https://localhost:8080/"
        },
        "id": "NBiajswGV13E",
        "outputId": "eb8ab23b-7731-4d07-c54b-bcc75281da65"
      },
      "execution_count": 41,
      "outputs": [
        {
          "output_type": "stream",
          "name": "stdout",
          "text": [
            "Hello\n"
          ]
        }
      ]
    }
  ]
}