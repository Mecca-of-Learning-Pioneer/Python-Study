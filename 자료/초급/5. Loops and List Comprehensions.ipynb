{
  "cells": [
    {
      "cell_type": "code",
      "execution_count": 1,
      "metadata": {
        "id": "7ttMMO_5PJkq",
        "outputId": "74d36fa8-d8ad-4a0e-b516-5c9c4739a7bf",
        "colab": {
          "base_uri": "https://localhost:8080/"
        }
      },
      "outputs": [
        {
          "output_type": "stream",
          "name": "stdout",
          "text": [
            "Hello Bye Hi Yes No "
          ]
        }
      ],
      "source": [
        "# for문 사용법 with List\n",
        "sets = [\"Hello\", \"Bye\", \"Hi\", \"Yes\", \"No\"]\n",
        "for s in sets:\n",
        "  print(s, end = ' ')"
      ]
    },
    {
      "cell_type": "code",
      "execution_count": 2,
      "metadata": {
        "id": "9tCVjBBqPJkt",
        "outputId": "b64c6388-4434-435e-9ae7-34b91e841f39",
        "colab": {
          "base_uri": "https://localhost:8080/"
        }
      },
      "outputs": [
        {
          "output_type": "stream",
          "name": "stdout",
          "text": [
            "360\n"
          ]
        }
      ],
      "source": [
        "# for문 사용법 with Tuple\n",
        "mul_sum = (2, 2, 2, 3, 3, 5)\n",
        "product = 1\n",
        "for mul in mul_sum:\n",
        "    product = product * mul\n",
        "\n",
        "print(product)"
      ]
    },
    {
      "cell_type": "code",
      "execution_count": 3,
      "metadata": {
        "id": "_YgHDdWFPJkv",
        "outputId": "c50f019f-c275-4c8f-d219-ec7b2c4b16da",
        "colab": {
          "base_uri": "https://localhost:8080/"
        }
      },
      "outputs": [
        {
          "output_type": "stream",
          "name": "stdout",
          "text": [
            "HELLO"
          ]
        }
      ],
      "source": [
        "# for문 사용법 with String\n",
        "s = 'steganograpHy is the practicE of conceaLing a file, message, image, or video within another fiLe, message, image, Or video.'\n",
        "for char in s:\n",
        "    if char.isupper():\n",
        "        print(char, end='')"
      ]
    },
    {
      "cell_type": "code",
      "execution_count": 4,
      "metadata": {
        "id": "ASsn8DF1PJkw",
        "outputId": "efd9b095-28a5-4df0-e331-5fcfef2537c6",
        "colab": {
          "base_uri": "https://localhost:8080/"
        }
      },
      "outputs": [
        {
          "output_type": "stream",
          "name": "stdout",
          "text": [
            "i = 0\n",
            "i = 1\n",
            "i = 2\n",
            "i = 3\n",
            "i = 4\n"
          ]
        }
      ],
      "source": [
        "# for문 사용법 (기본)\n",
        "for i in range(5): # range(0, 5)와 같음\n",
        "    print(\"i =\", i)"
      ]
    },
    {
      "cell_type": "code",
      "execution_count": 5,
      "metadata": {
        "id": "jpd6OMCcPJkx",
        "outputId": "d0512a36-7126-4094-b16f-2af2dea8ee5b",
        "colab": {
          "base_uri": "https://localhost:8080/"
        }
      },
      "outputs": [
        {
          "output_type": "stream",
          "name": "stdout",
          "text": [
            "0 1 2 3 4 5 6 7 8 9 "
          ]
        }
      ],
      "source": [
        "# while문 사용법\n",
        "i = 0\n",
        "while i < 10:\n",
        "    print(i, end=' ')\n",
        "    i += 1"
      ]
    },
    {
      "cell_type": "code",
      "execution_count": 6,
      "metadata": {
        "id": "voe_XUSaPJky",
        "outputId": "56b725b6-d2f6-44f1-a012-93dbae1fc91c",
        "colab": {
          "base_uri": "https://localhost:8080/"
        }
      },
      "outputs": [
        {
          "output_type": "execute_result",
          "data": {
            "text/plain": [
              "[0, 1, 4, 9, 16, 25, 36, 49, 64, 81]"
            ]
          },
          "metadata": {},
          "execution_count": 6
        }
      ],
      "source": [
        "# 리스트 컴프리헨션\n",
        "squares = [n**2 for n in range(10)] # for문 왼쪽에 오는 부분이 요소가 됨\n",
        "squares"
      ]
    },
    {
      "cell_type": "code",
      "execution_count": 7,
      "metadata": {
        "id": "4S4ikj3HPJkz",
        "outputId": "53dd1fe1-d733-4bea-f5cd-b7a0116187ce",
        "colab": {
          "base_uri": "https://localhost:8080/"
        }
      },
      "outputs": [
        {
          "output_type": "execute_result",
          "data": {
            "text/plain": [
              "[0, 1, 4, 9, 16, 25, 36, 49, 64, 81]"
            ]
          },
          "metadata": {},
          "execution_count": 7
        }
      ],
      "source": [
        "# 리스트 컴프리헨션을 사용하지 않고 위와 똑같은 리스트 선언\n",
        "squares = []\n",
        "for n in range(10):\n",
        "    squares.append(n**2)\n",
        "squares"
      ]
    },
    {
      "cell_type": "code",
      "execution_count": 8,
      "metadata": {
        "id": "8d7PoS9sPJk1",
        "outputId": "d06fe07c-7e1f-49dd-ce91-a45757c31d4e",
        "colab": {
          "base_uri": "https://localhost:8080/"
        }
      },
      "outputs": [
        {
          "output_type": "execute_result",
          "data": {
            "text/plain": [
              "['Hi', 'No']"
            ]
          },
          "metadata": {},
          "execution_count": 8
        }
      ],
      "source": [
        "# 리스트 컴프리헨션 + 조건\n",
        "short_sets = [s for s in sets if len(s) < 3]\n",
        "short_sets"
      ]
    },
    {
      "cell_type": "code",
      "execution_count": 9,
      "metadata": {
        "id": "nDSRgk1MPJk3",
        "outputId": "0cb08e70-f0d0-491e-bd82-cc61f855917c",
        "colab": {
          "base_uri": "https://localhost:8080/"
        }
      },
      "outputs": [
        {
          "output_type": "execute_result",
          "data": {
            "text/plain": [
              "['HI!', 'NO!']"
            ]
          },
          "metadata": {},
          "execution_count": 9
        }
      ],
      "source": [
        "loud_short_sets = [s.upper() + '!' for s in sets if len(s) < 3]\n",
        "loud_short_sets"
      ]
    },
    {
      "cell_type": "code",
      "execution_count": 10,
      "metadata": {
        "id": "xx6hlG1EPJk4",
        "outputId": "14d9a6cb-5edd-4a90-f3cf-f6de88b8b63d",
        "colab": {
          "base_uri": "https://localhost:8080/"
        }
      },
      "outputs": [
        {
          "output_type": "execute_result",
          "data": {
            "text/plain": [
              "['HI!', 'NO!']"
            ]
          },
          "metadata": {},
          "execution_count": 10
        }
      ],
      "source": [
        "# 가독성이 좋게 여러 줄로 나누어서 코딩할 수 있음\n",
        "[\n",
        "    s.upper() + '!' \n",
        "    for s in sets \n",
        "    if len(s) < 3\n",
        "]"
      ]
    },
    {
      "cell_type": "code",
      "execution_count": 11,
      "metadata": {
        "id": "FxoLtc1WPJk5",
        "outputId": "f0909479-9789-40d6-ac59-38657dfb90ba",
        "colab": {
          "base_uri": "https://localhost:8080/"
        }
      },
      "outputs": [
        {
          "output_type": "execute_result",
          "data": {
            "text/plain": [
              "[32, 32, 32, 32, 32]"
            ]
          },
          "metadata": {},
          "execution_count": 11
        }
      ],
      "source": [
        "# for문에 해당하는만큼 반복만 할 뿐 요소가 무엇이든 상관없음\n",
        "[32 for s in sets]"
      ]
    },
    {
      "cell_type": "code",
      "execution_count": 12,
      "metadata": {
        "id": "v7e8lYssPJk6"
      },
      "outputs": [],
      "source": [
        "# 음수 개수 세는 함수, 방법 1\n",
        "def count_minus(nums):\n",
        "    \"\"\"주어진 리스트에서 음수 개수 세기\n",
        "    \n",
        "    >>> count_minus([5, -1, -2, 0, 3])\n",
        "    2\n",
        "    \"\"\"\n",
        "    count = 0\n",
        "    for num in nums:\n",
        "        if num < 0:\n",
        "            count = count + 1\n",
        "    return count"
      ]
    },
    {
      "cell_type": "code",
      "execution_count": 13,
      "metadata": {
        "id": "2hvU_HDlPJk7"
      },
      "outputs": [],
      "source": [
        "# 음수 개수 세는 함수, 방법 2\n",
        "def count_minus(nums):\n",
        "    return len([num for num in nums if num < 0])"
      ]
    },
    {
      "cell_type": "code",
      "execution_count": 14,
      "metadata": {
        "id": "KhKo2hp7PJk8"
      },
      "outputs": [],
      "source": [
        "# 음수 개수 세는 함수, 방법 3\n",
        "def count_minus(nums):\n",
        "    return sum([num < 0 for num in nums])"
      ]
    },
    {
      "cell_type": "code",
      "execution_count": 15,
      "metadata": {
        "id": "J4DmuluuPJk8",
        "outputId": "7bf129bd-f51c-47dc-ec54-ac91fa308bd2",
        "colab": {
          "base_uri": "https://localhost:8080/",
          "height": 35
        }
      },
      "outputs": [
        {
          "output_type": "execute_result",
          "data": {
            "text/plain": [
              "''"
            ],
            "application/vnd.google.colaboratory.intrinsic+json": {
              "type": "string"
            }
          },
          "metadata": {},
          "execution_count": 15
        }
      ],
      "source": [
        "\"\"\"\n",
        "이러한 솔루션 중 \"최고\"인 솔루션은 \"전적으로 주관적\"입니다.\n",
        "더 적은 코드로 문제를 해결하는 것은 항상 좋지만 The Zen of Python의 다음 줄을 명심할 가치가 있습니다.\n",
        "\n",
        "    가독성이 중요합니다.\n",
        "    명시적인 것이 암시적인 것보다 낫습니다.\n",
        "\n",
        "따라서 이러한 도구(리스트 컴프리헨션 등)를 사용하여 읽기 쉬운 소형 프로그램을 만드십시오.\n",
        "그러나 선택해야 할 때는 다른 사람들이 이해하기 쉬운 코드를 선호하십시오.\n",
        "\"\"\"\n",
        "\"\"\"\"\"\""
      ]
    }
  ],
  "metadata": {
    "kernelspec": {
      "display_name": "Python 3",
      "language": "python",
      "name": "python3"
    },
    "language_info": {
      "codemirror_mode": {
        "name": "ipython",
        "version": 3
      },
      "file_extension": ".py",
      "mimetype": "text/x-python",
      "name": "python",
      "nbconvert_exporter": "python",
      "pygments_lexer": "ipython3",
      "version": "3.11.2"
    },
    "orig_nbformat": 4,
    "colab": {
      "provenance": []
    }
  },
  "nbformat": 4,
  "nbformat_minor": 0
}