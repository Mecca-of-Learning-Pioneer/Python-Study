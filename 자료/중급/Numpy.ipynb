{
  "nbformat": 4,
  "nbformat_minor": 0,
  "metadata": {
    "colab": {
      "provenance": []
    },
    "kernelspec": {
      "name": "python3",
      "display_name": "Python 3"
    },
    "language_info": {
      "name": "python"
    }
  },
  "cells": [
    {
      "cell_type": "code",
      "source": [
        "### Numpy\n",
        "\n",
        "## Numpy(넘파이) 특징\n",
        "\n",
        "\"\"\"\n",
        "과학 계산을 위한 라이브러리\n",
        "행렬/배열 처리 및 연산\n",
        "난수생성\n",
        "\"\"\"\n",
        "\"\"\"\"\"\""
      ],
      "metadata": {
        "colab": {
          "base_uri": "https://localhost:8080/",
          "height": 35
        },
        "id": "XMEhVkNlZsk3",
        "outputId": "72c2e533-830d-45ee-8f3f-33d0dee2e3b7"
      },
      "execution_count": null,
      "outputs": [
        {
          "output_type": "execute_result",
          "data": {
            "text/plain": [
              "''"
            ],
            "application/vnd.google.colaboratory.intrinsic+json": {
              "type": "string"
            }
          },
          "metadata": {},
          "execution_count": 865
        }
      ]
    },
    {
      "cell_type": "code",
      "execution_count": null,
      "metadata": {
        "colab": {
          "base_uri": "https://localhost:8080/"
        },
        "id": "JhDT8ga6KiRu",
        "outputId": "9de60a00-74b7-426c-f3fc-6f1f805894c0"
      },
      "outputs": [
        {
          "output_type": "stream",
          "name": "stdout",
          "text": [
            "[[1 2 3]\n",
            " [4 5 6]]\n"
          ]
        }
      ],
      "source": [
        "## 배열의 생성\n",
        "\n",
        "# 1. 리스트에서 행렬/배열 생성\n",
        "\n",
        "import numpy as np # numpy 패키지 로드하여 np로 사용\n",
        "a = [[1, 2, 3], [4, 5, 6]] # 리스트에서 행렬생성\n",
        "b = np.array(a)\n",
        "print(b)"
      ]
    },
    {
      "cell_type": "code",
      "source": [
        "print(b.ndim)  # 배열의 차원"
      ],
      "metadata": {
        "colab": {
          "base_uri": "https://localhost:8080/"
        },
        "id": "oKVqQApgKjmw",
        "outputId": "c32b9f3a-d168-4c45-928a-32fb4a2226d7"
      },
      "execution_count": null,
      "outputs": [
        {
          "output_type": "stream",
          "name": "stdout",
          "text": [
            "2\n"
          ]
        }
      ]
    },
    {
      "cell_type": "code",
      "source": [
        "print(b.shape) # 배열의 몇 행 몇 열\n",
        "\n",
        "rows, columns = b.shape\n",
        "\n",
        "print(\"Rows =\", rows)\n",
        "print(\"Columns =\", columns)"
      ],
      "metadata": {
        "colab": {
          "base_uri": "https://localhost:8080/"
        },
        "id": "NzNupeN4Kysv",
        "outputId": "9fdecab0-1797-439d-fbb0-d233dda53222"
      },
      "execution_count": null,
      "outputs": [
        {
          "output_type": "stream",
          "name": "stdout",
          "text": [
            "(2, 3)\n",
            "Rows = 2\n",
            "Columns = 3\n"
          ]
        }
      ]
    },
    {
      "cell_type": "code",
      "source": [
        "print(b.size) # 배열의 전체 원소 개수"
      ],
      "metadata": {
        "colab": {
          "base_uri": "https://localhost:8080/"
        },
        "id": "X8Pa4YVWb64W",
        "outputId": "4482b47c-0d78-42f1-dafb-657cd85626d8"
      },
      "execution_count": null,
      "outputs": [
        {
          "output_type": "stream",
          "name": "stdout",
          "text": [
            "6\n"
          ]
        }
      ]
    },
    {
      "cell_type": "code",
      "source": [
        "print(len(b)) # 배열의 첫 번째 차원의 갯수(행수) # 예시) 2행 3열 -> 2 # len은 파이썬 내장 함수"
      ],
      "metadata": {
        "colab": {
          "base_uri": "https://localhost:8080/"
        },
        "id": "R7B-MQ-6cK_k",
        "outputId": "eca64653-c516-4ddb-f6e8-cb5cb7ef807b"
      },
      "execution_count": null,
      "outputs": [
        {
          "output_type": "stream",
          "name": "stdout",
          "text": [
            "2\n"
          ]
        }
      ]
    },
    {
      "cell_type": "code",
      "source": [
        "print(b[0, 0])  # 배열의 원소 접근"
      ],
      "metadata": {
        "colab": {
          "base_uri": "https://localhost:8080/"
        },
        "id": "6-kBCVaAK2pt",
        "outputId": "a20bde22-1726-400f-9c61-72153789e44b"
      },
      "execution_count": null,
      "outputs": [
        {
          "output_type": "stream",
          "name": "stdout",
          "text": [
            "1\n"
          ]
        }
      ]
    },
    {
      "cell_type": "code",
      "source": [
        "# 2. 특수한 배열의 생성\n",
        "\n",
        "print(np.arange(10)) # 1씩 증가하는 1차원 배열(시작이 0부터) # np.arange(0, 10) 과 동일"
      ],
      "metadata": {
        "colab": {
          "base_uri": "https://localhost:8080/"
        },
        "id": "2khHfXH7K4o6",
        "outputId": "e59c04a0-1cc4-4deb-fe6b-867a6d9474b0"
      },
      "execution_count": null,
      "outputs": [
        {
          "output_type": "stream",
          "name": "stdout",
          "text": [
            "[0 1 2 3 4 5 6 7 8 9]\n"
          ]
        }
      ]
    },
    {
      "cell_type": "code",
      "source": [
        "print(np.arange(5, 10)) # 1씩 증가하는 1차원 배열(시작이 5부터)"
      ],
      "metadata": {
        "colab": {
          "base_uri": "https://localhost:8080/"
        },
        "id": "I2SyItcdLQQv",
        "outputId": "a3d25314-9c42-48f4-9c95-9bf4c431b2fb"
      },
      "execution_count": null,
      "outputs": [
        {
          "output_type": "stream",
          "name": "stdout",
          "text": [
            "[5 6 7 8 9]\n"
          ]
        }
      ]
    },
    {
      "cell_type": "code",
      "source": [
        "print(np.zeros((2, 2)))  # 영행렬 생성"
      ],
      "metadata": {
        "colab": {
          "base_uri": "https://localhost:8080/"
        },
        "id": "MSKaXUFXLSZa",
        "outputId": "da5d94f7-f389-4096-c64c-d0a60349c2d1"
      },
      "execution_count": null,
      "outputs": [
        {
          "output_type": "stream",
          "name": "stdout",
          "text": [
            "[[0. 0.]\n",
            " [0. 0.]]\n"
          ]
        }
      ]
    },
    {
      "cell_type": "code",
      "source": [
        "print(np.ones((2, 3)))  # 유닛행렬"
      ],
      "metadata": {
        "colab": {
          "base_uri": "https://localhost:8080/"
        },
        "id": "801IeRW4LUsv",
        "outputId": "08242e72-be51-4da6-9175-5b021f994715"
      },
      "execution_count": null,
      "outputs": [
        {
          "output_type": "stream",
          "name": "stdout",
          "text": [
            "[[1. 1. 1.]\n",
            " [1. 1. 1.]]\n"
          ]
        }
      ]
    },
    {
      "cell_type": "code",
      "source": [
        "print(np.full((2, 3), 5)) # 모든 원소가 5인 2*3행렬"
      ],
      "metadata": {
        "colab": {
          "base_uri": "https://localhost:8080/"
        },
        "id": "pU4N2gjcLnXr",
        "outputId": "54a9d464-a204-48d2-b3bc-48a811c3a54f"
      },
      "execution_count": null,
      "outputs": [
        {
          "output_type": "stream",
          "name": "stdout",
          "text": [
            "[[5 5 5]\n",
            " [5 5 5]]\n"
          ]
        }
      ]
    },
    {
      "cell_type": "code",
      "source": [
        "print(np.eye(3)) # 단위행렬"
      ],
      "metadata": {
        "colab": {
          "base_uri": "https://localhost:8080/"
        },
        "id": "D_twYttqLplp",
        "outputId": "f738fc7c-5a83-48d5-96ea-5f5affd05abf"
      },
      "execution_count": null,
      "outputs": [
        {
          "output_type": "stream",
          "name": "stdout",
          "text": [
            "[[1. 0. 0.]\n",
            " [0. 1. 0.]\n",
            " [0. 0. 1.]]\n"
          ]
        }
      ]
    },
    {
      "cell_type": "code",
      "source": [
        "# 3. 배열의 차원 변환\n",
        "\n",
        "a = np.arange(20)\n",
        "print(a)\n",
        "print(\"차원 :\", a.ndim)\n",
        "print(\"몇 행 몇 열 :\", a.shape)"
      ],
      "metadata": {
        "colab": {
          "base_uri": "https://localhost:8080/"
        },
        "id": "ObBHRMTaLuYb",
        "outputId": "ffe3815a-5310-4f2a-cb02-528f87992376"
      },
      "execution_count": null,
      "outputs": [
        {
          "output_type": "stream",
          "name": "stdout",
          "text": [
            "[ 0  1  2  3  4  5  6  7  8  9 10 11 12 13 14 15 16 17 18 19]\n",
            "차원 : 1\n",
            "몇 행 몇 열 : (20,)\n"
          ]
        }
      ]
    },
    {
      "cell_type": "code",
      "source": [
        "b = a.reshape((4, 5))\n",
        "print(b)\n",
        "print(\"차원 :\", b.ndim)\n",
        "print(\"몇 행 몇 열 :\", b.shape)"
      ],
      "metadata": {
        "colab": {
          "base_uri": "https://localhost:8080/"
        },
        "id": "_xpdGABnLw5_",
        "outputId": "c0bd4a68-005d-431d-8bbc-35ff9259073d"
      },
      "execution_count": null,
      "outputs": [
        {
          "output_type": "stream",
          "name": "stdout",
          "text": [
            "[[ 0  1  2  3  4]\n",
            " [ 5  6  7  8  9]\n",
            " [10 11 12 13 14]\n",
            " [15 16 17 18 19]]\n",
            "차원 : 2\n",
            "몇 행 몇 열 : (4, 5)\n"
          ]
        }
      ]
    },
    {
      "cell_type": "code",
      "source": [
        "## Numpy 슬라이싱/인덱싱\n",
        "\n",
        "import numpy as np\n",
        "lst = [\n",
        "    [1, 2, 3],\n",
        "    [4, 5, 6],\n",
        "    [7, 8, 9]\n",
        "]\n",
        "arr = np.array(lst)\n",
        "a = arr[0:2, 0:2]\n",
        "print(a)\n",
        "print(\"차원 :\", a.ndim)\n",
        "print(\"몇 행 몇 열 :\", a.shape)"
      ],
      "metadata": {
        "colab": {
          "base_uri": "https://localhost:8080/"
        },
        "id": "To3e_PtBL0K5",
        "outputId": "5b08fd82-ae2e-4459-dbbd-1eb5fdb103bc"
      },
      "execution_count": null,
      "outputs": [
        {
          "output_type": "stream",
          "name": "stdout",
          "text": [
            "[[1 2]\n",
            " [4 5]]\n",
            "차원 : 2\n",
            "몇 행 몇 열 : (2, 2)\n"
          ]
        }
      ]
    },
    {
      "cell_type": "code",
      "source": [
        "a = arr[1:, 1:]\n",
        "print(a)\n",
        "print(\"차원 :\", a.ndim)\n",
        "print(\"몇 행 몇 열 :\", a.shape)"
      ],
      "metadata": {
        "colab": {
          "base_uri": "https://localhost:8080/"
        },
        "id": "oNTmk06VMF0t",
        "outputId": "5d09b680-0803-454b-dc21-652fc8ddfc5d"
      },
      "execution_count": null,
      "outputs": [
        {
          "output_type": "stream",
          "name": "stdout",
          "text": [
            "[[5 6]\n",
            " [8 9]]\n",
            "차원 : 2\n",
            "몇 행 몇 열 : (2, 2)\n"
          ]
        }
      ]
    },
    {
      "cell_type": "code",
      "source": [
        "a = arr[:2, 1:]\n",
        "print(a)\n",
        "print(\"차원 :\", a.ndim)\n",
        "print(\"몇 행 몇 열 :\", a.shape)"
      ],
      "metadata": {
        "colab": {
          "base_uri": "https://localhost:8080/"
        },
        "id": "XJ74MiQ0MNf4",
        "outputId": "2402d610-c02b-4237-85a8-155f1ec28829"
      },
      "execution_count": null,
      "outputs": [
        {
          "output_type": "stream",
          "name": "stdout",
          "text": [
            "[[2 3]\n",
            " [5 6]]\n",
            "차원 : 2\n",
            "몇 행 몇 열 : (2, 2)\n"
          ]
        }
      ]
    },
    {
      "cell_type": "code",
      "source": [
        "a = arr[2]\n",
        "print(a)\n",
        "print(\"차원 :\", a.ndim)\n",
        "print(\"몇 행 몇 열 :\", a.shape)"
      ],
      "metadata": {
        "colab": {
          "base_uri": "https://localhost:8080/"
        },
        "id": "C7Hl52s_MbaP",
        "outputId": "29b7f8c3-cca3-4e53-a8ac-a1f0745c8cd5"
      },
      "execution_count": null,
      "outputs": [
        {
          "output_type": "stream",
          "name": "stdout",
          "text": [
            "[7 8 9]\n",
            "차원 : 1\n",
            "몇 행 몇 열 : (3,)\n"
          ]
        }
      ]
    },
    {
      "cell_type": "code",
      "source": [
        "a = arr[2, :]\n",
        "print(a)\n",
        "print(\"차원 :\", a.ndim)\n",
        "print(\"몇 행 몇 열 :\", a.shape)"
      ],
      "metadata": {
        "colab": {
          "base_uri": "https://localhost:8080/"
        },
        "id": "Q7oyiglQMhLF",
        "outputId": "79718b94-ca94-4ec6-f964-07500d85a1a2"
      },
      "execution_count": null,
      "outputs": [
        {
          "output_type": "stream",
          "name": "stdout",
          "text": [
            "[7 8 9]\n",
            "차원 : 1\n",
            "몇 행 몇 열 : (3,)\n"
          ]
        }
      ]
    },
    {
      "cell_type": "code",
      "source": [
        "a = arr[2:, :]\n",
        "print(a)\n",
        "print(\"차원 :\", a.ndim)\n",
        "print(\"몇 행 몇 열 :\", a.shape)"
      ],
      "metadata": {
        "colab": {
          "base_uri": "https://localhost:8080/"
        },
        "id": "kRkuT9ndMk3e",
        "outputId": "a128673e-bf2d-4b7c-9d2d-5aa2ced3182c"
      },
      "execution_count": null,
      "outputs": [
        {
          "output_type": "stream",
          "name": "stdout",
          "text": [
            "[[7 8 9]]\n",
            "차원 : 2\n",
            "몇 행 몇 열 : (1, 3)\n"
          ]
        }
      ]
    },
    {
      "cell_type": "code",
      "source": [
        "a = arr[:, :2]\n",
        "print(a)\n",
        "print(\"차원 :\", a.ndim)\n",
        "print(\"몇 행 몇 열 :\", a.shape)"
      ],
      "metadata": {
        "colab": {
          "base_uri": "https://localhost:8080/"
        },
        "id": "svjlMA-wMpJ4",
        "outputId": "6ddf4088-0381-48c6-9576-7be4596b3ec5"
      },
      "execution_count": null,
      "outputs": [
        {
          "output_type": "stream",
          "name": "stdout",
          "text": [
            "[[1 2]\n",
            " [4 5]\n",
            " [7 8]]\n",
            "차원 : 2\n",
            "몇 행 몇 열 : (3, 2)\n"
          ]
        }
      ]
    },
    {
      "cell_type": "code",
      "source": [
        "a = arr[1, :2]\n",
        "print(a)\n",
        "print(\"차원 :\", a.ndim)\n",
        "print(\"몇 행 몇 열 :\", a.shape)"
      ],
      "metadata": {
        "colab": {
          "base_uri": "https://localhost:8080/"
        },
        "id": "2zfB47D-NXuN",
        "outputId": "6042f791-eebe-442e-87b0-7ae50f886e4f"
      },
      "execution_count": null,
      "outputs": [
        {
          "output_type": "stream",
          "name": "stdout",
          "text": [
            "[4 5]\n",
            "차원 : 1\n",
            "몇 행 몇 열 : (2,)\n"
          ]
        }
      ]
    },
    {
      "cell_type": "code",
      "source": [
        "a = arr[1:2, :2]\n",
        "print(a)\n",
        "print(\"차원 :\", a.ndim)\n",
        "print(\"몇 행 몇 열 :\", a.shape)"
      ],
      "metadata": {
        "colab": {
          "base_uri": "https://localhost:8080/"
        },
        "id": "6KYe95kTNbvv",
        "outputId": "8f1c400e-0289-4ecc-b370-0f25af648f5e"
      },
      "execution_count": null,
      "outputs": [
        {
          "output_type": "stream",
          "name": "stdout",
          "text": [
            "[[4 5]]\n",
            "차원 : 2\n",
            "몇 행 몇 열 : (1, 2)\n"
          ]
        }
      ]
    },
    {
      "cell_type": "code",
      "source": [
        "## Numpy 연산\n",
        "\n",
        "\"\"\"\n",
        "배열간 연산 가능\n",
        "\n",
        "+,-,*,/ 등의 연산자 사용가능\n",
        "\n",
        "add(),substract(),multiply(),divide()\n",
        "\"\"\"\n",
        "\n",
        "import numpy as np\n",
        "a = np.array([1, 2, 3])\n",
        "b = np.array([4, 5, 6])\n",
        "\n",
        "# 각 요소 더하기\n",
        "c = a + b\n",
        "#c = np.add(a, b)\n",
        "\n",
        "print(c) #[5 7 9]"
      ],
      "metadata": {
        "colab": {
          "base_uri": "https://localhost:8080/"
        },
        "id": "IGEdOTX8NpVa",
        "outputId": "98fbb932-0b39-4a1d-9a49-e27a9078174c"
      },
      "execution_count": null,
      "outputs": [
        {
          "output_type": "stream",
          "name": "stdout",
          "text": [
            "[5 7 9]\n"
          ]
        }
      ]
    },
    {
      "cell_type": "code",
      "source": [
        "# 각 요소 곱하기\n",
        "c = a * b\n",
        "#c = np.multiply(a, b)\n",
        "\n",
        "print(c) #[4 10 18]"
      ],
      "metadata": {
        "colab": {
          "base_uri": "https://localhost:8080/"
        },
        "id": "hCTtwx1CNwiF",
        "outputId": "0e1158bf-196f-44ab-a999-551e14508974"
      },
      "execution_count": null,
      "outputs": [
        {
          "output_type": "stream",
          "name": "stdout",
          "text": [
            "[ 4 10 18]\n"
          ]
        }
      ]
    },
    {
      "cell_type": "code",
      "source": [
        "# 각 요소 나누기\n",
        "c = a / b\n",
        "#c = np.divide(a, b)\n",
        "\n",
        "print(c) # [0.25 0.4 0.5]"
      ],
      "metadata": {
        "colab": {
          "base_uri": "https://localhost:8080/"
        },
        "id": "KOZ0VPPYQBLl",
        "outputId": "3255df5e-26c4-46de-f7d4-ae5bc43ea2d1"
      },
      "execution_count": null,
      "outputs": [
        {
          "output_type": "stream",
          "name": "stdout",
          "text": [
            "[0.25 0.4  0.5 ]\n"
          ]
        }
      ]
    },
    {
      "cell_type": "code",
      "source": [
        "# dot()함수: 행렬의 곱\n",
        "\n",
        "arr1 = [[1, 2], [3, 4]]\n",
        "arr2 = [[5, 6], [7, 8]]\n",
        "a = np.array(arr1)\n",
        "b = np.array(arr2)\n",
        "\n",
        "c = np.dot(a, b)\n",
        "print(a)\n",
        "print('\\n')\n",
        "print(b)\n",
        "print('\\n')\n",
        "print(c)"
      ],
      "metadata": {
        "colab": {
          "base_uri": "https://localhost:8080/"
        },
        "id": "LXOArurlQHyB",
        "outputId": "e1d7b655-03a0-4856-db1c-9e89a8b49b5e"
      },
      "execution_count": null,
      "outputs": [
        {
          "output_type": "stream",
          "name": "stdout",
          "text": [
            "[[1 2]\n",
            " [3 4]]\n",
            "\n",
            "\n",
            "[[5 6]\n",
            " [7 8]]\n",
            "\n",
            "\n",
            "[[19 22]\n",
            " [43 50]]\n"
          ]
        }
      ]
    },
    {
      "cell_type": "code",
      "source": [
        "# 모든 원소의 합: sum(), 모든 원소의 곱: prod()\n",
        "\n",
        "a = np.array([[-1, 2, 3], [3, 4, 8]])\n",
        "s = np.sum(a)\n",
        "print('sum =', a.sum())\n",
        "print('sum =', s)"
      ],
      "metadata": {
        "colab": {
          "base_uri": "https://localhost:8080/"
        },
        "id": "PD4AVehlQLrs",
        "outputId": "5e0ac214-7496-4105-a8fe-495ddef1c09e"
      },
      "execution_count": null,
      "outputs": [
        {
          "output_type": "stream",
          "name": "stdout",
          "text": [
            "Sum = 19\n",
            "Sum = 19\n"
          ]
        }
      ]
    },
    {
      "cell_type": "code",
      "source": [
        "# 행별/열별 연산 (axis = 0 / axis = 1)\n",
        "\n",
        "print('sum by Row =', a.sum(axis = 0))\n",
        "print('sum by Column =', a.sum(axis = 1))"
      ],
      "metadata": {
        "colab": {
          "base_uri": "https://localhost:8080/"
        },
        "id": "ErTpQlFHQpvL",
        "outputId": "8439bcb2-1e83-4783-9d47-4d71f0676bc4"
      },
      "execution_count": null,
      "outputs": [
        {
          "output_type": "stream",
          "name": "stdout",
          "text": [
            "Sum by Row = [ 2  6 11]\n",
            "Sum by Column = [ 4 15]\n"
          ]
        }
      ]
    },
    {
      "cell_type": "code",
      "source": [
        "print('mean =', a.mean()) # 평균"
      ],
      "metadata": {
        "colab": {
          "base_uri": "https://localhost:8080/"
        },
        "id": "vt6c_CJmSj4d",
        "outputId": "2ca30b41-b177-4674-e224-50b307bde563"
      },
      "execution_count": null,
      "outputs": [
        {
          "output_type": "stream",
          "name": "stdout",
          "text": [
            "Mean = 3.1666666666666665\n"
          ]
        }
      ]
    },
    {
      "cell_type": "code",
      "source": [
        "print('sd =', a.std()) # 표준편차"
      ],
      "metadata": {
        "colab": {
          "base_uri": "https://localhost:8080/"
        },
        "id": "6L-wDPEGTSOc",
        "outputId": "e4cc3ccf-be46-43a9-e70b-e656bb9fa0a8"
      },
      "execution_count": null,
      "outputs": [
        {
          "output_type": "stream",
          "name": "stdout",
          "text": [
            "Std = 2.6718699236469\n"
          ]
        }
      ]
    },
    {
      "cell_type": "code",
      "source": [
        "print('product =', a.prod()) # 전체 원소간의 곱셈"
      ],
      "metadata": {
        "colab": {
          "base_uri": "https://localhost:8080/"
        },
        "id": "JCXEsBHoTTyt",
        "outputId": "b5a820f6-1fda-4cd4-db47-8ab15f07052c"
      },
      "execution_count": null,
      "outputs": [
        {
          "output_type": "stream",
          "name": "stdout",
          "text": [
            "Product = -576\n"
          ]
        }
      ]
    },
    {
      "cell_type": "code",
      "source": [
        "## 기본 수학 함수\n",
        "\n",
        "\"\"\"\n",
        "Function            Description\n",
        "abs, fabs\t          absolute value element-wise for integer, foating-point, or complex values\n",
        "sqrt\t              square root of each element (equivalent to arr ** 0.5)\n",
        "square              square of each element (equivalent to arr ** 2)\n",
        "exp\t                exponent e^x of each element\n",
        "log, log10,\t        Natural logarithm (base e), log base 10, log base 2, and log(1 + x), respectively\n",
        "log2, log1p\t\n",
        "sign\t              sign of each element: 1 (positive), 0 (zero), or –1 (negative)\n",
        "ceil\t              ceiling of each element (i.e., 주어진 수보다 크거나 같은 최소 정수)\n",
        "floor\t              floor of each element (i.e., 작거나 같은 최대정수)\n",
        "rint\t              반올림\n",
        "isnan\t              NaN (Not a Number) 체크, [True|False]\n",
        "isfinite, isinf\t    유한/무한 체크\n",
        "cos, cosh, sin,\t    삼각함수\n",
        "sinh, tan, tanh\t\n",
        "arccos, arccosh,\t\n",
        "arcsin, arcsinh,\t\n",
        "arctan, arctanh\n",
        "\"\"\"\n",
        "\"\"\"\"\"\""
      ],
      "metadata": {
        "colab": {
          "base_uri": "https://localhost:8080/",
          "height": 35
        },
        "id": "p-S8paBpTjrz",
        "outputId": "72d68ae2-772c-4ea6-ee45-336d12b166a1"
      },
      "execution_count": null,
      "outputs": [
        {
          "output_type": "execute_result",
          "data": {
            "text/plain": [
              "''"
            ],
            "application/vnd.google.colaboratory.intrinsic+json": {
              "type": "string"
            }
          },
          "metadata": {},
          "execution_count": 898
        }
      ]
    },
    {
      "cell_type": "code",
      "source": [
        " ## 선형대수(벡터/행렬연산) 함수\n",
        "\n",
        "\"\"\"\n",
        "Function            Description\n",
        "diag\t              diagonal elements of a square matrix as a 1D array, or\n",
        "                    convert a 1D array into a square matrix with zeros on the off-diagonal\n",
        "dot\t                Matrix multiplication\n",
        "trace\t              sum of the diagonal elements\n",
        "det\t                matrix determinant\n",
        "eig\t                eigenvalues and eigenvectors of a square matrix\n",
        "inv\t                inverse of a square matrix\n",
        "pinv\t              Moore-Penrose pseudo-inverse of a matrix\n",
        "qr\t                QR decomposition\n",
        "svd\t                singular value decomposition (SVD)\n",
        "solve\t              Ax=b for x, where A is a matrix\n",
        "lstsq\t              least-squares solution to Ax=b\n",
        "\"\"\"\n",
        "\"\"\"\"\"\""
      ],
      "metadata": {
        "colab": {
          "base_uri": "https://localhost:8080/",
          "height": 35
        },
        "id": "pEchzXnWUppm",
        "outputId": "05d541a3-9369-41a5-b777-d557d447cf0f"
      },
      "execution_count": null,
      "outputs": [
        {
          "output_type": "execute_result",
          "data": {
            "text/plain": [
              "''"
            ],
            "application/vnd.google.colaboratory.intrinsic+json": {
              "type": "string"
            }
          },
          "metadata": {},
          "execution_count": 899
        }
      ]
    },
    {
      "cell_type": "code",
      "source": [
        "# 1. 벡터연산(내적)\n",
        "\n",
        "import numpy as np\n",
        "x = np.array([1, 2, 3])\n",
        "print(x)\n",
        "print(\"차원 :\", x.ndim)\n",
        "print(\"몇 행 몇 열 :\", x.shape)"
      ],
      "metadata": {
        "colab": {
          "base_uri": "https://localhost:8080/"
        },
        "id": "oDuq7zWvVjqY",
        "outputId": "b5e58e58-76f9-4278-e58e-1b2ecf2e3f67"
      },
      "execution_count": null,
      "outputs": [
        {
          "output_type": "stream",
          "name": "stdout",
          "text": [
            "[1 2 3]\n",
            "차원 : 1\n",
            "몇 행 몇 열 : (3,)\n"
          ]
        }
      ]
    },
    {
      "cell_type": "code",
      "source": [
        "y = np.array([6, 23, -1])\n",
        "print(y)\n",
        "print(\"차원 :\", y.ndim)\n",
        "print(\"몇 행 몇 열 :\", y.shape)"
      ],
      "metadata": {
        "colab": {
          "base_uri": "https://localhost:8080/"
        },
        "id": "bXiRHC0X2s0-",
        "outputId": "56cfc4e7-a2c2-419c-e1a5-bc4e93424853"
      },
      "execution_count": null,
      "outputs": [
        {
          "output_type": "stream",
          "name": "stdout",
          "text": [
            "[ 6 23 -1]\n",
            "차원 : 1\n",
            "몇 행 몇 열 : (3,)\n"
          ]
        }
      ]
    },
    {
      "cell_type": "code",
      "source": [
        "x2 = x.T\n",
        "print(x2)\n",
        "print(\"차원 :\", x2.ndim)\n",
        "print(\"몇 행 몇 열 :\", x2.shape)"
      ],
      "metadata": {
        "colab": {
          "base_uri": "https://localhost:8080/"
        },
        "id": "lizpHegyVw99",
        "outputId": "fa77816a-c52c-4710-9f06-f789cd300eb7"
      },
      "execution_count": null,
      "outputs": [
        {
          "output_type": "stream",
          "name": "stdout",
          "text": [
            "[1 2 3]\n",
            "차원 : 1\n",
            "몇 행 몇 열 : (3,)\n"
          ]
        }
      ]
    },
    {
      "cell_type": "code",
      "source": [
        "y2 = y.T\n",
        "print(y2)\n",
        "print(\"차원 :\", y2.ndim)\n",
        "print(\"몇 행 몇 열 :\", y2.shape)"
      ],
      "metadata": {
        "colab": {
          "base_uri": "https://localhost:8080/"
        },
        "id": "KPJYMXus2y1I",
        "outputId": "fa448baf-8cdd-4718-a378-d2dfcd209f9e"
      },
      "execution_count": null,
      "outputs": [
        {
          "output_type": "stream",
          "name": "stdout",
          "text": [
            "[ 6 23 -1]\n",
            "차원 : 1\n",
            "몇 행 몇 열 : (3,)\n"
          ]
        }
      ]
    },
    {
      "cell_type": "code",
      "source": [
        "print(x.dot(y))\n",
        "print(x.dot(y.T))\n",
        "print(x.T.dot(y))\n",
        "print(x.T.dot(y.T))\n",
        "# x와 y 위치를 바꿔도 마찬가지로 49\n",
        "# 행과 열이 존재하는 2차원이 아니라 전치행렬이 안되는 것으로 보임\n",
        "# (각 위치의 원소끼리의 곱)의 총합 # 1*6 + 2*23 + 3*-1 = 49"
      ],
      "metadata": {
        "colab": {
          "base_uri": "https://localhost:8080/"
        },
        "id": "pjks5vZuVyNE",
        "outputId": "141e887a-fb7c-4c35-8fb7-ca5778955aae"
      },
      "execution_count": null,
      "outputs": [
        {
          "output_type": "stream",
          "name": "stdout",
          "text": [
            "49\n",
            "49\n",
            "49\n",
            "49\n"
          ]
        }
      ]
    },
    {
      "cell_type": "code",
      "source": [
        "# 2. 행렬의 곱\n",
        "\n",
        "x = np.array([[1., 2., 3.], [4., 5., 6.]])\n",
        "print(x)\n",
        "print(\"차원 :\", x.ndim)\n",
        "print(\"몇 행 몇 열 :\", x.shape)"
      ],
      "metadata": {
        "colab": {
          "base_uri": "https://localhost:8080/"
        },
        "id": "ry9TDE9YWnQt",
        "outputId": "69b936ab-a4e2-471e-be66-b083d488a275"
      },
      "execution_count": null,
      "outputs": [
        {
          "output_type": "stream",
          "name": "stdout",
          "text": [
            "[[1. 2. 3.]\n",
            " [4. 5. 6.]]\n",
            "차원 : 2\n",
            "몇 행 몇 열 : (2, 3)\n"
          ]
        }
      ]
    },
    {
      "cell_type": "code",
      "source": [
        "y = np.array([[6., 23.], [-1, 7], [8, 9]])\n",
        "print(y)\n",
        "print(\"차원 :\", y.ndim)\n",
        "print(\"몇 행 몇 열 :\", y.shape)"
      ],
      "metadata": {
        "colab": {
          "base_uri": "https://localhost:8080/"
        },
        "id": "7MFu-c8qW-j2",
        "outputId": "6bdbd4df-f687-4854-c546-d028fcdd7f20"
      },
      "execution_count": null,
      "outputs": [
        {
          "output_type": "stream",
          "name": "stdout",
          "text": [
            "[[ 6. 23.]\n",
            " [-1.  7.]\n",
            " [ 8.  9.]]\n",
            "차원 : 2\n",
            "몇 행 몇 열 : (3, 2)\n"
          ]
        }
      ]
    },
    {
      "cell_type": "code",
      "source": [
        "print(x.dot(y)) # xy"
      ],
      "metadata": {
        "colab": {
          "base_uri": "https://localhost:8080/"
        },
        "id": "zEOHrzrQXCBP",
        "outputId": "625484f5-79e6-4e9d-e30a-7128b944aaea"
      },
      "execution_count": null,
      "outputs": [
        {
          "output_type": "stream",
          "name": "stdout",
          "text": [
            "[[ 28.  64.]\n",
            " [ 67. 181.]]\n"
          ]
        }
      ]
    },
    {
      "cell_type": "code",
      "source": [
        "print(y.dot(x)) # yx"
      ],
      "metadata": {
        "colab": {
          "base_uri": "https://localhost:8080/"
        },
        "id": "9tTPumOOXDXK",
        "outputId": "f1011a26-e74a-466d-9f20-7efda3b21f54"
      },
      "execution_count": null,
      "outputs": [
        {
          "output_type": "stream",
          "name": "stdout",
          "text": [
            "[[ 98. 127. 156.]\n",
            " [ 27.  33.  39.]\n",
            " [ 44.  61.  78.]]\n"
          ]
        }
      ]
    },
    {
      "cell_type": "code",
      "source": [
        "print(x.T.dot(y.T)) # x'y'"
      ],
      "metadata": {
        "colab": {
          "base_uri": "https://localhost:8080/"
        },
        "id": "hT0hqhoF3CZM",
        "outputId": "26fe30a5-44b9-45c7-eb3a-6f9872de03a8"
      },
      "execution_count": null,
      "outputs": [
        {
          "output_type": "stream",
          "name": "stdout",
          "text": [
            "[[ 98.  27.  44.]\n",
            " [127.  33.  61.]\n",
            " [156.  39.  78.]]\n"
          ]
        }
      ]
    },
    {
      "cell_type": "code",
      "source": [
        "# 3. 역행렬\n",
        "\n",
        "from numpy.linalg import inv\n",
        "x = np.array([[1, 2, 3], [1, 0, 0], [0, 0, 1]])\n",
        "print(x)"
      ],
      "metadata": {
        "colab": {
          "base_uri": "https://localhost:8080/"
        },
        "id": "UnlY8B1BXaip",
        "outputId": "0718d6bf-ecbe-4e2c-9d1b-a16bc5d6e9f9"
      },
      "execution_count": null,
      "outputs": [
        {
          "output_type": "stream",
          "name": "stdout",
          "text": [
            "[[1 2 3]\n",
            " [1 0 0]\n",
            " [0 0 1]]\n"
          ]
        }
      ]
    },
    {
      "cell_type": "code",
      "source": [
        "y = inv(x)\n",
        "print(y)"
      ],
      "metadata": {
        "colab": {
          "base_uri": "https://localhost:8080/"
        },
        "id": "z2LC4SIkX7sd",
        "outputId": "212c904a-1f73-413d-dc30-5f20e4e90f80"
      },
      "execution_count": null,
      "outputs": [
        {
          "output_type": "stream",
          "name": "stdout",
          "text": [
            "[[ 0.   1.   0. ]\n",
            " [ 0.5 -0.5 -1.5]\n",
            " [ 0.   0.   1. ]]\n"
          ]
        }
      ]
    },
    {
      "cell_type": "code",
      "source": [
        "x.dot(y)"
      ],
      "metadata": {
        "colab": {
          "base_uri": "https://localhost:8080/"
        },
        "id": "yxBDzAyPYFie",
        "outputId": "6327c846-ab3a-4a04-ac2f-263790b90bbc"
      },
      "execution_count": null,
      "outputs": [
        {
          "output_type": "execute_result",
          "data": {
            "text/plain": [
              "array([[1., 0., 0.],\n",
              "       [0., 1., 0.],\n",
              "       [0., 0., 1.]])"
            ]
          },
          "metadata": {},
          "execution_count": 912
        }
      ]
    },
    {
      "cell_type": "code",
      "source": [
        "## 난수(랜덤넘버)의 생성\n",
        "\n",
        "\"\"\"\n",
        "함수\t                                분포\n",
        "beta(a, b[, size])\t                  Beta distribution.\n",
        "binomial(n, p[, size])\t              binomial distribution.\n",
        "chisquare(df[, size])\t                chi-square distribution.\n",
        "exponential([scale, size])\t          exponential distribution.\n",
        "f(dfnum, dfden[, size])\t              F distribution.\n",
        "gamma(shape[, scale, size])\t          Gamma distribution.\n",
        "geometric(p[, size])\t                geometric distribution.\n",
        "hypergeometric(ngood, nbad,\t          Hypergeometric distribution.\n",
        "nsample[, size])\t\n",
        "multinomial(n, pvals[, size])\t        multinomial distribution.\n",
        "negative_binomial(n, p[, size])\t      negative binomial distribution.\n",
        "normal([loc, scale, size])\t          normal (Gaussian) distribution.\n",
        "poisson([lam, size])\t                Poisson distribution.\n",
        "\"\"\"\n",
        "\"\"\"\"\"\"\n",
        "\n",
        "np.random.seed(3) # 난수 고정 생성 # 괄호안에 숫자를 입력하면, 그 숫자에선 계속 같은 난수가 고정되어 생성된다.\n",
        "\n",
        "print(np.random.rand(5)) # 0 ~ 1 사이의 수 5개 생성\n",
        "print(np.random.randint(99, size = 5)) # 0 ~ 99 사이의 수 5개 생성"
      ],
      "metadata": {
        "colab": {
          "base_uri": "https://localhost:8080/"
        },
        "id": "Pns4bEh4YIyi",
        "outputId": "1edd1442-ae6c-46bf-fc95-104af8865d18"
      },
      "execution_count": null,
      "outputs": [
        {
          "output_type": "stream",
          "name": "stdout",
          "text": [
            "[0.5507979  0.70814782 0.29090474 0.51082761 0.89294695]\n",
            "[74 41 10 21 38]\n"
          ]
        }
      ]
    },
    {
      "cell_type": "code",
      "source": [
        "# 1. 균등분포에서 난수생성\n",
        "\n",
        "x = np.random.uniform(size = 100)\n",
        "x.reshape(20, 5)"
      ],
      "metadata": {
        "colab": {
          "base_uri": "https://localhost:8080/"
        },
        "id": "UoLi73Q0YTGs",
        "outputId": "f39dfb1e-a681-4be3-f587-89e7c37e9953"
      },
      "execution_count": null,
      "outputs": [
        {
          "output_type": "execute_result",
          "data": {
            "text/plain": [
              "array([[0.5507979 , 0.70814782, 0.29090474, 0.51082761, 0.89294695],\n",
              "       [0.89629309, 0.12558531, 0.20724288, 0.0514672 , 0.44080984],\n",
              "       [0.02987621, 0.45683322, 0.64914405, 0.27848728, 0.6762549 ],\n",
              "       [0.59086282, 0.02398188, 0.55885409, 0.25925245, 0.4151012 ],\n",
              "       [0.28352508, 0.69313792, 0.44045372, 0.15686774, 0.54464902],\n",
              "       [0.78031476, 0.30636353, 0.22195788, 0.38797126, 0.93638365],\n",
              "       [0.97599542, 0.67238368, 0.90283411, 0.84575087, 0.37799404],\n",
              "       [0.09221701, 0.6534109 , 0.55784076, 0.36156476, 0.2250545 ],\n",
              "       [0.40651992, 0.46894025, 0.26923558, 0.29179277, 0.4576864 ],\n",
              "       [0.86053391, 0.5862529 , 0.28348786, 0.27797751, 0.45462208],\n",
              "       [0.20541034, 0.20137871, 0.51403506, 0.08722937, 0.48358553],\n",
              "       [0.36217621, 0.70768662, 0.74674622, 0.69109292, 0.68918041],\n",
              "       [0.37360012, 0.6681348 , 0.33984866, 0.57279387, 0.32580716],\n",
              "       [0.44514505, 0.06152893, 0.24267542, 0.97160261, 0.2305842 ],\n",
              "       [0.69147751, 0.65047686, 0.72393914, 0.47508861, 0.59666377],\n",
              "       [0.06696942, 0.07256214, 0.19897603, 0.151861  , 0.10010434],\n",
              "       [0.12929386, 0.55327773, 0.18781482, 0.95210124, 0.68161178],\n",
              "       [0.54101967, 0.7071806 , 0.26388667, 0.92672568, 0.83919306],\n",
              "       [0.7263195 , 0.48023996, 0.84210319, 0.74475232, 0.66032591],\n",
              "       [0.91397527, 0.63366556, 0.36594058, 0.55284457, 0.19638058]])"
            ]
          },
          "metadata": {},
          "execution_count": 914
        }
      ]
    },
    {
      "cell_type": "code",
      "source": [
        "# 2. 정규분포\n",
        "\n",
        "s = np.random.normal(0, 1, 1000)\n",
        "#print(s) # 너무 길어 주석 처리"
      ],
      "metadata": {
        "id": "RRt9ZC92ZbeT"
      },
      "execution_count": null,
      "outputs": []
    },
    {
      "cell_type": "code",
      "source": [
        "# 더 자세한 그래프는 Plot파트에서 계속\n",
        "import matplotlib.pyplot as plt\n",
        "plt.hist(s)\n",
        "plt.show()"
      ],
      "metadata": {
        "colab": {
          "base_uri": "https://localhost:8080/",
          "height": 430
        },
        "id": "QbptuawVZn4j",
        "outputId": "a76be918-faad-4898-8cd0-031329b000ff"
      },
      "execution_count": null,
      "outputs": [
        {
          "output_type": "display_data",
          "data": {
            "text/plain": [
              "<Figure size 640x480 with 1 Axes>"
            ],
            "image/png": "[encoded data removed]"
          },
          "metadata": {}
        }
      ]
    }
  ]
}