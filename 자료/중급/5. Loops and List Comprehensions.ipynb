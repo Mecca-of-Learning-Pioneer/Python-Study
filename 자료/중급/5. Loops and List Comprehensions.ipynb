{
  "cells": [
    {
      "cell_type": "code",
      "execution_count": 1,
      "metadata": {
        "id": "ZHpy9tZIPJkm"
      },
      "outputs": [],
      "source": [
        "# 루프 및 리스트 컴프리헨션\n",
        "    # for 루프와 while 루프, 많은 사랑을 받는 Python 기능: 리스트 컴프리헨션"
      ]
    },
    {
      "cell_type": "code",
      "execution_count": 2,
      "metadata": {
        "id": "7ttMMO_5PJkq",
        "outputId": "a2ae4136-120c-4dac-a3be-9642622f6682",
        "colab": {
          "base_uri": "https://localhost:8080/"
        }
      },
      "outputs": [
        {
          "output_type": "stream",
          "name": "stdout",
          "text": [
            "Mercury Venus Earth Mars Jupiter Saturn Uranus Neptune "
          ]
        }
      ],
      "source": [
        "# 루프\n",
        "\"\"\"\n",
        "루프는 일부 코드를 반복적으로 실행하는 방법입니다.\n",
        "예를 들면 다음과 같습니다.\n",
        "\"\"\"\n",
        "\n",
        "planets = ['Mercury', 'Venus', 'Earth', 'Mars', 'Jupiter', 'Saturn', 'Uranus', 'Neptune']\n",
        "for planet in planets:\n",
        "    print(planet, end=' ') # print all on same line"
      ]
    },
    {
      "cell_type": "code",
      "execution_count": 3,
      "metadata": {
        "id": "9tCVjBBqPJkt",
        "outputId": "df96b46f-f76f-460e-cd06-eb24b4ea01fa",
        "colab": {
          "base_uri": "https://localhost:8080/"
        }
      },
      "outputs": [
        {
          "output_type": "execute_result",
          "data": {
            "text/plain": [
              "360"
            ]
          },
          "metadata": {},
          "execution_count": 3
        }
      ],
      "source": [
        "\"\"\"\n",
        "for 루프는 다음을 지정합니다.\n",
        "\n",
        "    사용할 변수 이름(이 경우 planet)\n",
        "    반복할 값 세트(이 경우 planets)\n",
        "\n",
        "\"in\"이라는 단어를 사용하여 서로 연결합니다.\n",
        "\n",
        "\"in\" 오른쪽에 있는 개체는 반복을 지원하는 모든 개체가 될 수 있습니다.\n",
        "기본적으로 사물의 그룹으로 생각할 수 있는 경우 반복할 수 있습니다.\n",
        "리스트 외에도 튜플의 요소를 반복할 수 있습니다.\n",
        "\"\"\"\n",
        "\n",
        "multiplicands = (2, 2, 2, 3, 3, 5)\n",
        "product = 1\n",
        "for mult in multiplicands:\n",
        "    product = product * mult\n",
        "product"
      ]
    },
    {
      "cell_type": "code",
      "execution_count": 4,
      "metadata": {
        "id": "_YgHDdWFPJkv",
        "outputId": "8f981325-63d2-48f2-a6c8-10d6a9349598",
        "colab": {
          "base_uri": "https://localhost:8080/"
        }
      },
      "outputs": [
        {
          "output_type": "stream",
          "name": "stdout",
          "text": [
            "HELLO"
          ]
        }
      ],
      "source": [
        "\"\"\"\n",
        "문자열의 각 문자를 반복할 수도 있습니다.\n",
        "\"\"\"\n",
        "\n",
        "s = 'steganograpHy is the practicE of conceaLing a file, message, image, or video within another fiLe, message, image, Or video.'\n",
        "msg = ''\n",
        "# print all the uppercase letters in s, one at a time\n",
        "for char in s:\n",
        "    if char.isupper():\n",
        "        print(char, end='')"
      ]
    },
    {
      "cell_type": "code",
      "execution_count": 5,
      "metadata": {
        "id": "ASsn8DF1PJkw",
        "outputId": "1f149ea5-fd5d-4c00-ca2c-cfd43387e174",
        "colab": {
          "base_uri": "https://localhost:8080/"
        }
      },
      "outputs": [
        {
          "output_type": "stream",
          "name": "stdout",
          "text": [
            "Doing important work. i = 0\n",
            "Doing important work. i = 1\n",
            "Doing important work. i = 2\n",
            "Doing important work. i = 3\n",
            "Doing important work. i = 4\n"
          ]
        }
      ],
      "source": [
        "# range()\n",
        "\"\"\"\n",
        "range()는 일련의 숫자를 반환하는 함수입니다.\n",
        "루프 작성에 매우 유용합니다.\n",
        "\n",
        "예를 들어 어떤 작업을 5번 반복하려면 다음과 같이 하십시오.\n",
        "\"\"\"\n",
        "\n",
        "for i in range(5): # range(0, 5) 와 동일\n",
        "    print(\"Doing important work. i =\", i)"
      ]
    },
    {
      "cell_type": "code",
      "execution_count": 6,
      "metadata": {
        "id": "jpd6OMCcPJkx",
        "outputId": "9e2d637b-ac4c-48cc-8650-eeec178a659b",
        "colab": {
          "base_uri": "https://localhost:8080/",
          "height": 35
        }
      },
      "outputs": [
        {
          "output_type": "stream",
          "name": "stdout",
          "text": [
            "0 1 2 3 4 5 6 7 8 9 "
          ]
        },
        {
          "output_type": "execute_result",
          "data": {
            "text/plain": [
              "''"
            ],
            "application/vnd.google.colaboratory.intrinsic+json": {
              "type": "string"
            }
          },
          "metadata": {},
          "execution_count": 6
        }
      ],
      "source": [
        "# while 루프\n",
        "\"\"\"\n",
        "Python의 다른 유형의 루프는 while 루프로, 일부 조건이 충족될 때까지 반복됩니다.\n",
        "\"\"\"\n",
        "\n",
        "i = 0\n",
        "while i < 10:\n",
        "    print(i, end=' ')\n",
        "    i += 1 # increase the value of i by 1\n",
        "\n",
        "\"\"\"\n",
        "while 루프의 인수는 부울 문으로 평가되며 문이 False로 평가될 때까지 루프가 실행됩니다.\n",
        "\"\"\"\n",
        "\"\"\"\"\"\""
      ]
    },
    {
      "cell_type": "code",
      "execution_count": 7,
      "metadata": {
        "id": "voe_XUSaPJky",
        "outputId": "7c103baf-e877-40dd-9386-3f82b0505f92",
        "colab": {
          "base_uri": "https://localhost:8080/"
        }
      },
      "outputs": [
        {
          "output_type": "execute_result",
          "data": {
            "text/plain": [
              "[0, 1, 4, 9, 16, 25, 36, 49, 64, 81]"
            ]
          },
          "metadata": {},
          "execution_count": 7
        }
      ],
      "source": [
        "# 리스트 컴프리헨션\n",
        "\"\"\"\n",
        "List Comprehension은 Python의 가장 사랑받고 고유한 기능 중 하나입니다.\n",
        "이를 이해하는 가장 쉬운 방법은 아마도 몇 가지 예를 살펴보는 것일 것입니다.\n",
        "\"\"\"\n",
        "\n",
        "squares = [n**2 for n in range(10)]\n",
        "squares"
      ]
    },
    {
      "cell_type": "code",
      "execution_count": 8,
      "metadata": {
        "id": "4S4ikj3HPJkz",
        "outputId": "a69989ac-c8a5-4fd9-8a3a-a05a83b9929d",
        "colab": {
          "base_uri": "https://localhost:8080/"
        }
      },
      "outputs": [
        {
          "output_type": "execute_result",
          "data": {
            "text/plain": [
              "[0, 1, 4, 9, 16, 25, 36, 49, 64, 81]"
            ]
          },
          "metadata": {},
          "execution_count": 8
        }
      ],
      "source": [
        "\"\"\"\n",
        "리스트 컴프리헨션 없이 동일한 작업을 수행하는 방법은 다음과 같습니다.\n",
        "\"\"\"\n",
        "\n",
        "squares = []\n",
        "for n in range(10):\n",
        "    squares.append(n**2)\n",
        "squares"
      ]
    },
    {
      "cell_type": "code",
      "execution_count": 9,
      "metadata": {
        "id": "8d7PoS9sPJk1",
        "outputId": "9f54d9ac-f3bd-4d21-b3c7-d8f51ec4a379",
        "colab": {
          "base_uri": "https://localhost:8080/"
        }
      },
      "outputs": [
        {
          "output_type": "execute_result",
          "data": {
            "text/plain": [
              "['Venus', 'Earth', 'Mars']"
            ]
          },
          "metadata": {},
          "execution_count": 9
        }
      ],
      "source": [
        "\"\"\"\n",
        "if 조건을 추가할 수도 있습니다.\n",
        "\"\"\"\n",
        "\n",
        "short_planets = [planet for planet in planets if len(planet) < 6]\n",
        "short_planets"
      ]
    },
    {
      "cell_type": "code",
      "execution_count": 10,
      "metadata": {
        "id": "nDSRgk1MPJk3",
        "outputId": "3a6f0a88-cafb-42a6-c65e-fa62f7b5f28c",
        "colab": {
          "base_uri": "https://localhost:8080/"
        }
      },
      "outputs": [
        {
          "output_type": "execute_result",
          "data": {
            "text/plain": [
              "['VENUS!', 'EARTH!', 'MARS!']"
            ]
          },
          "metadata": {},
          "execution_count": 10
        }
      ],
      "source": [
        "\"\"\"\n",
        "(SQL에 익숙하다면 \"WHERE\" 절과 같다고 생각할 수 있습니다.)\n",
        "\n",
        "다음은 if 조건으로 필터링하고 일부 변환을 루프 변수에 적용하는 예입니다.\n",
        "\"\"\"\n",
        "\n",
        "# str.upper() returns an all-caps version of a string\n",
        "loud_short_planets = [planet.upper() + '!' for planet in planets if len(planet) < 6]\n",
        "loud_short_planets"
      ]
    },
    {
      "cell_type": "code",
      "execution_count": 11,
      "metadata": {
        "id": "xx6hlG1EPJk4",
        "outputId": "3e614099-98aa-48cc-d2aa-72fc302e89e4",
        "colab": {
          "base_uri": "https://localhost:8080/"
        }
      },
      "outputs": [
        {
          "output_type": "execute_result",
          "data": {
            "text/plain": [
              "['VENUS!', 'EARTH!', 'MARS!']"
            ]
          },
          "metadata": {},
          "execution_count": 11
        }
      ],
      "source": [
        "\"\"\"\n",
        "사람들은 일반적으로 한 줄에 작성하지만 세 줄로 나눌 때 구조가 더 명확하다는 것을 알 수 있습니다.\n",
        "\"\"\"\n",
        "\n",
        "[\n",
        "    planet.upper() + '!' \n",
        "    for planet in planets \n",
        "    if len(planet) < 6\n",
        "]"
      ]
    },
    {
      "cell_type": "code",
      "execution_count": 12,
      "metadata": {
        "id": "FxoLtc1WPJk5",
        "outputId": "0444495a-85db-41f4-feee-1a2368da7060",
        "colab": {
          "base_uri": "https://localhost:8080/"
        }
      },
      "outputs": [
        {
          "output_type": "execute_result",
          "data": {
            "text/plain": [
              "[32, 32, 32, 32, 32, 32, 32, 32]"
            ]
          },
          "metadata": {},
          "execution_count": 12
        }
      ],
      "source": [
        "\"\"\"\n",
        "(SQL 비유를 계속하면 이 세 줄을 SELECT, FROM 및 WHERE로 생각할 수 있습니다.)\n",
        "\n",
        "왼쪽의 표현식은 기술적으로 루프 변수를 포함할 필요가 없습니다(그렇지 않은 경우는 매우 드문 일이지만).\n",
        "아래 표현이 무엇으로 평가될 것이라고 생각하십니까?\n",
        "'출력' 버튼을 눌러 확인하세요.\n",
        "\"\"\"\n",
        "\n",
        "[32 for planet in planets]"
      ]
    },
    {
      "cell_type": "code",
      "execution_count": 13,
      "metadata": {
        "id": "v7e8lYssPJk6"
      },
      "outputs": [],
      "source": [
        "\"\"\"\n",
        "min, max 및 sum과 같은 함수와 결합된 리스트 컴프리헨션은 여러 줄의 코드가 필요한 문제에 대해 인상적인 한 줄 솔루션으로 이어질 수 있습니다.\n",
        "\n",
        "예를 들어 동일한 작업을 수행하는 다음 두 코드 셀을 비교합니다.\n",
        "\"\"\"\n",
        "\n",
        "def count_negatives(nums):\n",
        "    \"\"\"Return the number of negative numbers in the given list.\n",
        "    \n",
        "    >>> count_negatives([5, -1, -2, 0, 3])\n",
        "    2\n",
        "    \"\"\"\n",
        "    n_negative = 0\n",
        "    for num in nums:\n",
        "        if num < 0:\n",
        "            n_negative = n_negative + 1\n",
        "    return n_negative"
      ]
    },
    {
      "cell_type": "code",
      "execution_count": 14,
      "metadata": {
        "id": "2hvU_HDlPJk7"
      },
      "outputs": [],
      "source": [
        "\"\"\"\n",
        "리스트 컴프리헨션을 사용하는 솔루션은 다음과 같습니다.\n",
        "\"\"\"\n",
        "\n",
        "def count_negatives(nums):\n",
        "    return len([num for num in nums if num < 0])"
      ]
    },
    {
      "cell_type": "code",
      "execution_count": 15,
      "metadata": {
        "id": "KhKo2hp7PJk8"
      },
      "outputs": [],
      "source": [
        "\"\"\"\n",
        "훨씬 낫죠?\n",
        "\n",
        "우리가 관심 있는 모든 것이 코드 길이를 최소화하는 것이라면 이 세 번째 솔루션이 더 좋습니다!\n",
        "\"\"\"\n",
        "\n",
        "def count_negatives(nums):\n",
        "    # Reminder: in the \"booleans and conditionals\" exercises, we learned about a quirk of \n",
        "    # Python where it calculates something like True + True + False + True to be equal to 3.\n",
        "    return sum([num < 0 for num in nums])"
      ]
    },
    {
      "cell_type": "code",
      "execution_count": 16,
      "metadata": {
        "id": "J4DmuluuPJk8",
        "outputId": "2b293f65-e44f-4b3f-ecf3-32897e0bb141",
        "colab": {
          "base_uri": "https://localhost:8080/",
          "height": 35
        }
      },
      "outputs": [
        {
          "output_type": "execute_result",
          "data": {
            "text/plain": [
              "''"
            ],
            "application/vnd.google.colaboratory.intrinsic+json": {
              "type": "string"
            }
          },
          "metadata": {},
          "execution_count": 16
        }
      ],
      "source": [
        "\"\"\"\n",
        "이러한 솔루션 중 \"최고\"인 솔루션은 전적으로 주관적입니다.\n",
        "더 적은 코드로 문제를 해결하는 것은 항상 좋지만 The Zen of Python의 다음 줄을 명심할 가치가 있습니다.\n",
        "\n",
        "    가독성이 중요합니다.\n",
        "    명시적인 것이 암시적인 것보다 낫습니다.\n",
        "\n",
        "따라서 이러한 도구를 사용하여 읽기 쉬운 소형 프로그램을 만드십시오.\n",
        "그러나 선택해야 할 때는 다른 사람들이 이해하기 쉬운 코드를 선호하십시오.\n",
        "\"\"\"\n",
        "\"\"\"\"\"\""
      ]
    }
  ],
  "metadata": {
    "kernelspec": {
      "display_name": "Python 3",
      "language": "python",
      "name": "python3"
    },
    "language_info": {
      "codemirror_mode": {
        "name": "ipython",
        "version": 3
      },
      "file_extension": ".py",
      "mimetype": "text/x-python",
      "name": "python",
      "nbconvert_exporter": "python",
      "pygments_lexer": "ipython3",
      "version": "3.11.2"
    },
    "orig_nbformat": 4,
    "colab": {
      "provenance": []
    }
  },
  "nbformat": 4,
  "nbformat_minor": 0
}