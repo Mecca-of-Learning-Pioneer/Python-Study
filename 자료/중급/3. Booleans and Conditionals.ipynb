{
  "cells": [
    {
      "cell_type": "code",
      "execution_count": 3,
      "metadata": {
        "id": "_1qxJBfcZjeY"
      },
      "outputs": [],
      "source": [
        "# 부울 및 조건\n",
        "    # 논리 분기에 부울 사용"
      ]
    },
    {
      "cell_type": "code",
      "execution_count": 4,
      "metadata": {
        "id": "Tf46R6HTZjec",
        "outputId": "289f4449-4303-43b5-c05a-ce38153ee1c2",
        "colab": {
          "base_uri": "https://localhost:8080/"
        }
      },
      "outputs": [
        {
          "output_type": "stream",
          "name": "stdout",
          "text": [
            "True\n",
            "<class 'bool'>\n"
          ]
        }
      ],
      "source": [
        "# 부울\n",
        "\"\"\"\n",
        "Python에는 bool이라는 변수 유형이 있습니다.\n",
        "True와 False의 두 가지 가능한 값이 있습니다.\n",
        "\"\"\"\n",
        "\n",
        "x = True\n",
        "print(x)\n",
        "print(type(x))"
      ]
    },
    {
      "cell_type": "code",
      "execution_count": 5,
      "metadata": {
        "id": "HPBvjUoGZjef",
        "outputId": "efd23563-78ec-447c-8b24-af4d2cd86b46",
        "colab": {
          "base_uri": "https://localhost:8080/",
          "height": 35
        }
      },
      "outputs": [
        {
          "output_type": "execute_result",
          "data": {
            "text/plain": [
              "''"
            ],
            "application/vnd.google.colaboratory.intrinsic+json": {
              "type": "string"
            }
          },
          "metadata": {},
          "execution_count": 5
        }
      ],
      "source": [
        "\"\"\"\n",
        "코드에 True 또는 False를 직접 입력하는 대신 일반적으로 부울 연산자에서 부울 값을 얻습니다.\n",
        "예/아니오 질문에 답하는 교환원입니다.\n",
        "아래에서 이러한 연산자 중 일부를 살펴보겠습니다.\n",
        "\"\"\"\n",
        "\n",
        "# 비교 연산\n",
        "\"\"\"\n",
        "Operation    Description\t\t                Operation\t    Description\n",
        "a == b       a equal to b\t\t                a != b\t      a not equal to b\n",
        "a < b\t       a less than b\t\t              a > b\t        a greater than b\n",
        "a <= b\t     a less than or equal to b\t    a >= b\t      a greater than or equal to b\n",
        "\"\"\"\n",
        "\"\"\"\"\"\""
      ]
    },
    {
      "cell_type": "code",
      "execution_count": 6,
      "metadata": {
        "id": "V0VRI4bvZjeh",
        "outputId": "1e5bcb7f-fbc0-41f3-8ec0-b4c67453fb22",
        "colab": {
          "base_uri": "https://localhost:8080/"
        }
      },
      "outputs": [
        {
          "output_type": "stream",
          "name": "stdout",
          "text": [
            "Can a 19-year-old run for president? False\n",
            "Can a 45-year-old run for president? True\n"
          ]
        }
      ],
      "source": [
        "def can_run_for_president(age):\n",
        "    \"\"\"Can someone of the given age run for president in the US?\"\"\"\n",
        "    # The US Constitution says you must be at least 35 years old\n",
        "    return age >= 35\n",
        "\n",
        "print(\"Can a 19-year-old run for president?\", can_run_for_president(19))\n",
        "print(\"Can a 45-year-old run for president?\", can_run_for_president(45))"
      ]
    },
    {
      "cell_type": "code",
      "execution_count": 7,
      "metadata": {
        "id": "_uFvrYgzZjej",
        "outputId": "f0e84c3f-96a2-441d-9a65-0984a8b719df",
        "colab": {
          "base_uri": "https://localhost:8080/"
        }
      },
      "outputs": [
        {
          "output_type": "execute_result",
          "data": {
            "text/plain": [
              "True"
            ]
          },
          "metadata": {},
          "execution_count": 7
        }
      ],
      "source": [
        "\"\"\"\n",
        "비교는 원하는 대로 자주 작동합니다.\n",
        "\"\"\"\n",
        "\n",
        "3.0 == 3"
      ]
    },
    {
      "cell_type": "code",
      "execution_count": 8,
      "metadata": {
        "id": "7Tt9DOp9Zjek",
        "outputId": "ea5625bb-d7fe-4d41-891f-968ccf682030",
        "colab": {
          "base_uri": "https://localhost:8080/"
        }
      },
      "outputs": [
        {
          "output_type": "execute_result",
          "data": {
            "text/plain": [
              "False"
            ]
          },
          "metadata": {},
          "execution_count": 8
        }
      ],
      "source": [
        "\"\"\"\n",
        "그러나 때때로 그들은 까다로울 수 있습니다.\n",
        "\"\"\"\n",
        "\n",
        "'3' == 3"
      ]
    },
    {
      "cell_type": "code",
      "execution_count": 9,
      "metadata": {
        "id": "2n_0K2w1Zjel",
        "outputId": "b8a03908-bc9a-4cd7-d87b-15c2d6065708",
        "colab": {
          "base_uri": "https://localhost:8080/",
          "height": 72
        }
      },
      "outputs": [
        {
          "output_type": "stream",
          "name": "stdout",
          "text": [
            "Is 100 odd? False\n",
            "Is -1 odd? True\n"
          ]
        },
        {
          "output_type": "execute_result",
          "data": {
            "text/plain": [
              "''"
            ],
            "application/vnd.google.colaboratory.intrinsic+json": {
              "type": "string"
            }
          },
          "metadata": {},
          "execution_count": 9
        }
      ],
      "source": [
        "\"\"\"\n",
        "비교 연산자는 거의 무한한 범위의 수학적 테스트를 표현하기 위해 이미 본 산술 연산자와 결합될 수 있습니다.\n",
        "예를 들어 계수가 2인 계수가 1을 반환하는지 확인하여 숫자가 홀수인지 확인할 수 있습니다.\n",
        "\"\"\"\n",
        "\n",
        "def is_odd(n):\n",
        "    return (n % 2) == 1\n",
        "\n",
        "print(\"Is 100 odd?\", is_odd(100))\n",
        "print(\"Is -1 odd?\", is_odd(-1))\n",
        "\n",
        "\"\"\"\n",
        "비교할 때 = 대신 ==를 사용해야 합니다.\n",
        "n == 2라고 쓰면 n의 값에 대해 묻는 것입니다.\n",
        "n = 2라고 쓰면 n의 값이 변경됩니다.\n",
        "\"\"\"\n",
        "\"\"\"\"\"\""
      ]
    },
    {
      "cell_type": "code",
      "execution_count": 10,
      "metadata": {
        "id": "3dGLKhzNZjem",
        "outputId": "25a93af1-6770-49ed-ca8e-515853c4d2fb",
        "colab": {
          "base_uri": "https://localhost:8080/"
        }
      },
      "outputs": [
        {
          "output_type": "stream",
          "name": "stdout",
          "text": [
            "False\n",
            "False\n",
            "True\n"
          ]
        }
      ],
      "source": [
        "# 부울 값 결합\n",
        "\"\"\"\n",
        "\"and\", \"or\" 및 \"not\"의 표준 개념을 사용하여 부울 값을 결합할 수 있습니다.\n",
        "실제로 이렇게 하는 단어는 and, or, not입니다.\n",
        "\n",
        "이를 통해 can_run_for_president 함수를 더 정확하게 만들 수 있습니다.\n",
        "\"\"\"\n",
        "\n",
        "def can_run_for_president(age, is_natural_born_citizen):\n",
        "    \"\"\"Can someone of the given age and citizenship status run for president in the US?\"\"\"\n",
        "    # The US Constitution says you must be a natural born citizen *and* at least 35 years old\n",
        "    return is_natural_born_citizen and (age >= 35)\n",
        "\n",
        "print(can_run_for_president(19, True))\n",
        "print(can_run_for_president(55, False))\n",
        "print(can_run_for_president(55, True))"
      ]
    },
    {
      "cell_type": "code",
      "execution_count": 11,
      "metadata": {
        "id": "S-284l3iZjeo",
        "outputId": "56dfc99d-8b12-468d-b8ba-d1db35439b53",
        "colab": {
          "base_uri": "https://localhost:8080/",
          "height": 54
        }
      },
      "outputs": [
        {
          "output_type": "stream",
          "name": "stdout",
          "text": [
            "True\n"
          ]
        },
        {
          "output_type": "execute_result",
          "data": {
            "text/plain": [
              "''"
            ],
            "application/vnd.google.colaboratory.intrinsic+json": {
              "type": "string"
            }
          },
          "metadata": {},
          "execution_count": 11
        }
      ],
      "source": [
        "\"\"\"\n",
        "빨리, 이 표현의 가치를 추측할 수 있습니까?\n",
        "\"\"\"\n",
        "\n",
        "print(True or True and False)\n",
        "\n",
        "\"\"\"\n",
        "('출력' 버튼을 클릭하시면 답을 보실 수 있습니다.)\n",
        "\n",
        "이에 답하려면 작업 순서를 파악해야 합니다.\n",
        "\n",
        "예를 들어 and는 or보다 먼저 평가됩니다.\n",
        "이것이 바로 위의 첫 번째 표현이 True인 이유입니다.\n",
        "왼쪽에서 오른쪽으로 평가했다면 먼저 True 또는 True(True)를 계산한 다음 해당 결과의 and를 False로 가져와 최종 값을 False로 지정했을 것입니다.\n",
        "\n",
        "우선 순위를 외우려고 할 수도 있지만 더 안전한 내기는 자유로운 괄호를 사용하는 것입니다.\n",
        "이것은 버그를 방지하는 데 도움이 될 뿐만 아니라 코드를 읽는 모든 사람에게 의도를 더 명확하게 합니다.\n",
        "\"\"\"\n",
        "\"\"\"\"\"\""
      ]
    },
    {
      "cell_type": "code",
      "execution_count": null,
      "metadata": {
        "id": "0C8SuRG3Zjeq"
      },
      "outputs": [],
      "source": [
        "\"\"\"\n",
        "예를 들어 다음 표현식을 고려하십시오.\n",
        "\"\"\"\n",
        "\n",
        "prepared_for_weather = have_umbrella or rain_level < 5 and have_hood or not rain_level > 0 and is_workday"
      ]
    },
    {
      "cell_type": "code",
      "execution_count": null,
      "metadata": {
        "id": "dY_BzNKMZjer"
      },
      "outputs": [],
      "source": [
        "\"\"\"\n",
        "오늘의 날씨로부터 안전하다고 말하려 합니다....\n",
        "\n",
        "    우산이 있다면...\n",
        "    또는 비가 너무 많이 내리지 않고 후드가 있는 경우...\n",
        "    그렇지 않으면 비가 내리고 근무일이 아닌 한 여전히 괜찮습니다.\n",
        "\n",
        "하지만 내 Python 코드는 읽기 어려울 뿐만 아니라 버그도 있습니다.\n",
        "몇 가지 괄호를 추가하여 두 가지 문제를 모두 해결할 수 있습니다.\n",
        "\"\"\"\n",
        "\n",
        "prepared_for_weather = have_umbrella or (rain_level < 5 and have_hood) or not (rain_level > 0 and is_workday)"
      ]
    },
    {
      "cell_type": "code",
      "execution_count": null,
      "metadata": {
        "id": "cxfoE-pvZjet"
      },
      "outputs": [],
      "source": [
        "\"\"\"\n",
        "가독성에 도움이 된다고 생각되면 더 많은 괄호를 추가할 수 있습니다.\n",
        "\"\"\"\n",
        "\n",
        "prepared_for_weather = have_umbrella or ((rain_level < 5) and have_hood) or (not (rain_level > 0 and is_workday))"
      ]
    },
    {
      "cell_type": "code",
      "execution_count": null,
      "metadata": {
        "id": "YXe00aBkZjeu"
      },
      "outputs": [],
      "source": [
        "\"\"\"\n",
        "위에서 설명한 3 부분 구조를 강조하기 위해 여러 줄로 나눌 수도 있습니다.\n",
        "\"\"\"\n",
        "\n",
        "prepared_for_weather = (\n",
        "    have_umbrella \n",
        "    or ((rain_level < 5) and have_hood) \n",
        "    or (not (rain_level > 0 and is_workday))\n",
        ")"
      ]
    },
    {
      "cell_type": "code",
      "execution_count": 13,
      "metadata": {
        "id": "eQkv-2klZjeu",
        "outputId": "fe1a7cc5-9b6a-47d2-a4f5-2a32800c1153",
        "colab": {
          "base_uri": "https://localhost:8080/",
          "height": 72
        }
      },
      "outputs": [
        {
          "output_type": "stream",
          "name": "stdout",
          "text": [
            "0 is zero\n",
            "-15 is negative\n"
          ]
        },
        {
          "output_type": "execute_result",
          "data": {
            "text/plain": [
              "''"
            ],
            "application/vnd.google.colaboratory.intrinsic+json": {
              "type": "string"
            }
          },
          "metadata": {},
          "execution_count": 13
        }
      ],
      "source": [
        "# 조건부\n",
        "\"\"\"\n",
        "부울은 if, elif 및 else 키워드를 사용하여 조건문과 결합할 때 가장 유용합니다.\n",
        "\n",
        "종종 if-then 문이라고 하는 조건문을 사용하면 일부 부울 조건의 값에 따라 실행할 코드 부분을 제어할 수 있습니다.\n",
        "예를 들면 다음과 같습니다.\n",
        "\"\"\"\n",
        "\n",
        "def inspect(x):\n",
        "    if x == 0:\n",
        "        print(x, \"is zero\")\n",
        "    elif x > 0:\n",
        "        print(x, \"is positive\")\n",
        "    elif x < 0:\n",
        "        print(x, \"is negative\")\n",
        "    else:\n",
        "        print(x, \"is unlike anything I've ever seen...\")\n",
        "\n",
        "inspect(0)\n",
        "inspect(-15)\n",
        "\n",
        "\"\"\"\n",
        "if 및 else 키워드는 종종 다른 언어에서 사용됩니다.\n",
        "더 고유한 키워드는 \"else if\"의 축약형인 elif입니다.\n",
        "이러한 조건절에서 elif 및 else 블록은 선택 사항입니다.\n",
        "또한 원하는 만큼 많은 elif 문을 포함할 수 있습니다.\n",
        "\n",
        "특히 콜론(:)과 공백을 사용하여 별도의 코드 블록을 나타내는 점에 유의하십시오.\n",
        "이것은 우리가 함수를 정의할 때 발생하는 것과 유사합니다.\n",
        "함수 헤더는 :로 끝나고 다음 행은 4개의 공백으로 들여쓰기됩니다.\n",
        "이후의 모든 들여쓰기 라인은 함수 정의를 종료하는 들여쓰기 되지 않은 라인을 만날 때까지 함수 본문에 속합니다.\n",
        "\"\"\"\n",
        "\"\"\"\"\"\""
      ]
    },
    {
      "cell_type": "code",
      "execution_count": 14,
      "metadata": {
        "id": "JW10E-TTZjew",
        "outputId": "4186a049-b37a-474e-a1f5-e8508cc3bf0a",
        "colab": {
          "base_uri": "https://localhost:8080/"
        }
      },
      "outputs": [
        {
          "output_type": "stream",
          "name": "stdout",
          "text": [
            "Only printed when x is positive; x = 1\n",
            "Also only printed when x is positive; x = 1\n",
            "Always printed, regardless of x's value; x = 1\n",
            "Always printed, regardless of x's value; x = 0\n"
          ]
        }
      ],
      "source": [
        "def f(x):\n",
        "    if x > 0:\n",
        "        print(\"Only printed when x is positive; x =\", x)\n",
        "        print(\"Also only printed when x is positive; x =\", x)\n",
        "    print(\"Always printed, regardless of x's value; x =\", x)\n",
        "\n",
        "f(1)\n",
        "f(0)"
      ]
    },
    {
      "cell_type": "code",
      "execution_count": 15,
      "metadata": {
        "id": "y8ENaYtkZjex",
        "outputId": "a11fb967-9d30-46d8-c271-ca7b1ea0efe6",
        "colab": {
          "base_uri": "https://localhost:8080/"
        }
      },
      "outputs": [
        {
          "output_type": "stream",
          "name": "stdout",
          "text": [
            "True\n",
            "False\n",
            "True\n",
            "False\n"
          ]
        }
      ],
      "source": [
        "# 부울 변환\n",
        "\"\"\"\n",
        "우리는 사물을 int로 바꾸는 int()와 사물을 float로 바꾸는 float()를 보았기 때문에 Python에 사물을 bool로 바꾸는 bool() 함수가 있다는 사실에 놀라지 않을 수도 있습니다.\n",
        "\"\"\"\n",
        "\n",
        "print(bool(1)) # all numbers are treated as true, except 0\n",
        "print(bool(0))\n",
        "print(bool(\"asf\")) # all strings are treated as true, except the empty string \"\"\n",
        "print(bool(\"\"))\n",
        "# Generally empty sequences (strings, lists, and other types we've yet to see like lists and tuples)\n",
        "# are \"falsey\" and the rest are \"truthy\""
      ]
    },
    {
      "cell_type": "code",
      "execution_count": 16,
      "metadata": {
        "id": "2gGj-OTDZjey",
        "outputId": "de513c80-efc8-4f0b-ed8c-3c99bd845ddd",
        "colab": {
          "base_uri": "https://localhost:8080/"
        }
      },
      "outputs": [
        {
          "output_type": "stream",
          "name": "stdout",
          "text": [
            "spam\n"
          ]
        }
      ],
      "source": [
        "\"\"\"\n",
        "if 조건 및 부울이 예상되는 다른 위치에서 부울이 아닌 객체를 사용할 수 있습니다.\n",
        "파이썬은 암묵적으로 그것들을 상응하는 불리언 값으로 취급할 것입니다:\n",
        "\"\"\"\n",
        "\n",
        "if 0:\n",
        "    print(0)\n",
        "elif \"spam\":\n",
        "    print(\"spam\")"
      ]
    }
  ],
  "metadata": {
    "kernelspec": {
      "display_name": "Python 3",
      "language": "python",
      "name": "python3"
    },
    "language_info": {
      "codemirror_mode": {
        "name": "ipython",
        "version": 3
      },
      "file_extension": ".py",
      "mimetype": "text/x-python",
      "name": "python",
      "nbconvert_exporter": "python",
      "pygments_lexer": "ipython3",
      "version": "3.11.2"
    },
    "orig_nbformat": 4,
    "vscode": {
      "interpreter": {
        "hash": "22779186065cfbbb6d100dc370e05c47871f8cc15a1860e2ac7f74385b6d6011"
      }
    },
    "colab": {
      "provenance": []
    }
  },
  "nbformat": 4,
  "nbformat_minor": 0
}